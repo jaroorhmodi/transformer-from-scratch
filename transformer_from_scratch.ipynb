{
  "nbformat": 4,
  "nbformat_minor": 0,
  "metadata": {
    "colab": {
      "provenance": [],
      "gpuType": "T4",
      "collapsed_sections": [
        "n2N66TOo5wx7"
      ],
      "authorship_tag": "ABX9TyNfsJV7po8nDzhD9nBLdbjx",
      "include_colab_link": true
    },
    "kernelspec": {
      "name": "python3",
      "display_name": "Python 3"
    },
    "language_info": {
      "name": "python"
    },
    "accelerator": "GPU"
  },
  "cells": [
    {
      "cell_type": "markdown",
      "metadata": {
        "id": "view-in-github",
        "colab_type": "text"
      },
      "source": [
        "<a href=\"https://colab.research.google.com/github/jaroorhmodi/transformer-from-scratch/blob/main/transformer_from_scratch.ipynb\" target=\"_parent\"><img src=\"https://colab.research.google.com/assets/colab-badge.svg\" alt=\"Open In Colab\"/></a>"
      ]
    },
    {
      "cell_type": "markdown",
      "source": [
        "#Building a Transformer from Scratch\n",
        "\n",
        "Using the famous paper [***Attention Is All You Need***](https://arxiv.org/pdf/1706.03762.pdf), we will build a transformer model from scratch and train it on some synthetic data.\n",
        "\n",
        "Following [*The Annotated Transformer*](http://nlp.seas.harvard.edu/annotated-transformer/#training-data-and-batching) along with this [Towards Data Science post](https://towardsdatascience.com/all-you-need-to-know-about-attention-and-transformers-in-depth-understanding-part-1-552f0b41d021#8607) loosely to clarify any confusions when reading the paper.\n",
        "\n",
        "I will **NOT** be training the model on the same amount of data as the original paper does. It's about 3.5 days of training on 8 GPUs, something I cannot do at the moment. Perhaps I will attempt bigger models in the future! :)"
      ],
      "metadata": {
        "id": "KZktnWMrup34"
      }
    },
    {
      "cell_type": "markdown",
      "source": [
        "##Preliminary Work"
      ],
      "metadata": {
        "id": "aX4xdt9_yk-b"
      }
    },
    {
      "cell_type": "code",
      "source": [
        "# !pip install -q torchdata==0.3.0 torchtext==0.12 altair GPUtil"
      ],
      "metadata": {
        "id": "zAC5uWTxuQ2m"
      },
      "execution_count": 123,
      "outputs": []
    },
    {
      "cell_type": "code",
      "execution_count": 124,
      "metadata": {
        "id": "G4LW_EzhFh-H",
        "colab": {
          "base_uri": "https://localhost:8080/",
          "height": 36
        },
        "outputId": "c81d4e09-7de0-4ede-c928-d9895b4571a0"
      },
      "outputs": [
        {
          "output_type": "execute_result",
          "data": {
            "text/plain": [
              "'cuda'"
            ],
            "application/vnd.google.colaboratory.intrinsic+json": {
              "type": "string"
            }
          },
          "metadata": {},
          "execution_count": 124
        }
      ],
      "source": [
        "import torch\n",
        "from torch import nn\n",
        "import math\n",
        "import copy\n",
        "import time\n",
        "import pandas as pd\n",
        "import altair as alt\n",
        "from torchtext.data.functional import to_map_style_dataset\n",
        "\n",
        "RUN_EXAMPLES = True\n",
        "\n",
        "#I will only ever run this on GPU\n",
        "#but I want to make this device agnostic.\n",
        "\n",
        "#FUTURE GOALS: Try to do multi-gpu training in colab in the\n",
        "#future with a newer, more ambitious paper to duplicate\n",
        "DEVICE = \"cuda\" if torch.cuda.is_available() else \"cpu\"\n",
        "DEVICE"
      ]
    },
    {
      "cell_type": "code",
      "source": [
        "# Some convenience helper functions used throughout the notebook\n",
        "\n",
        "\n",
        "def is_interactive_notebook():\n",
        "    return __name__ == \"__main__\"\n",
        "\n",
        "\n",
        "def show_example(fn, args=[]):\n",
        "    if __name__ == \"__main__\" and RUN_EXAMPLES:\n",
        "        return fn(*args)\n",
        "\n",
        "\n",
        "def execute_example(fn, args=[]):\n",
        "    if __name__ == \"__main__\" and RUN_EXAMPLES:\n",
        "        fn(*args)\n",
        "\n",
        "\n",
        "class DummyOptimizer(torch.optim.Optimizer):\n",
        "    def __init__(self):\n",
        "        self.param_groups = [{\"lr\": 0}]\n",
        "        None\n",
        "\n",
        "    def step(self):\n",
        "        None\n",
        "\n",
        "    def zero_grad(self, set_to_none=False):\n",
        "        None\n",
        "\n",
        "\n",
        "class DummyScheduler:\n",
        "    def step(self):\n",
        "        None"
      ],
      "metadata": {
        "id": "lZsxg4HR7jjb"
      },
      "execution_count": 125,
      "outputs": []
    },
    {
      "cell_type": "markdown",
      "source": [
        "###PAPER COMMENTS:\n",
        "**Section 1** of the paper basically breaks down part of the motivation behind including attention mechanisms in NLP models. I am familiar with how LSTM and other RNN architectures work and it seems like the impetus (at the time) was to capture inter-word dependencies in a way that is not inherently sequential. This allows for training efficiency to improve by leveraging parallel computation (*which I am funnily enough eschewing in this exercise I am undertaking*). This parallelization effectively increases the effectiveness of the model by allowing for training on larger sets of data.\n",
        "\n",
        "**Section 2** of the paper breaks down how attention compares to existing approaches employing convolution and sequence-aligned RNNS ([which I think refers to Seq2Seq models](https://towardsdatascience.com/how-to-implement-seq2seq-lstm-model-in-keras-shortcutnlp-6f355f3e5639)).\n",
        "\n",
        "Attention has an advantage in learning relations between distant word positions (constant number of operations) but it loses some resolution. The Transformer employs **Multi-Head-Attention** to counteract this. This is described later in the paper."
      ],
      "metadata": {
        "id": "rNayhR5Pypt2"
      }
    },
    {
      "cell_type": "markdown",
      "source": [
        "##Model Architecture"
      ],
      "metadata": {
        "id": "Pfz-7XCcMleJ"
      }
    },
    {
      "cell_type": "markdown",
      "source": [
        "In the paper, model architecture is covered in **Section 3**.\n",
        "\n",
        "The transformer model is similar to prior popular models like *LSTM* in that it has an **encoder-decoder** structure. Encoders map input sequences (symbol representation) to continuous representations which the decoder then maps to symbols. this happens one element at a time and is auto-regressive; which is to say that all previously generated symbols become inputs as the next output symbol is generated.\n",
        "\n",
        "For $\\mathbf{x} = (x_1,…, x_n)\\in \\mathbf{W}$, $\\mathbf{y} = (y_1,…, y_m)\\in \\mathbf{W'}$, $\\mathbf{z} = (z_1,…, z_n)\\in \\mathbb{R}^n$, the mapping looks something like this:\n",
        "$$\\mathbf{x}→\\mathbf{z}→\\mathbf{y}$$\n",
        "Above we have $\\mathbf{W}$ and $\\mathbf{W'}$ to represent word vocabularies which may or may not be in the same language (different languages might be used in a machine translation task like the original transformer paper used). Although even in the case of the machine translation use case, vocabularies are merged for both input and output since the weight vector of the embedding is shared for input and output embeddings."
      ],
      "metadata": {
        "id": "4KRhpO41Mqqd"
      }
    },
    {
      "cell_type": "markdown",
      "source": [
        "![Encoder-Decoder Architecture](https://machinelearningmastery.com/wp-content/uploads/2021/08/attention_research_1-768x1082.png)"
      ],
      "metadata": {
        "id": "-d_KySRMIPdf"
      }
    },
    {
      "cell_type": "code",
      "source": [
        "class EncoderDecoder(nn.Module):\n",
        "  \"\"\"\n",
        "  This is a skeleton for the encoder-decoder structuer mentioned above.\n",
        "\n",
        "  I am following the code organization in the Annotated Transformer article mentioned above.\n",
        "  \"\"\"\n",
        "  def __init__(self, encoder, decoder, src_embed, tgt_embed, generator):\n",
        "    super(EncoderDecoder, self).__init__()\n",
        "    self.encoder = encoder\n",
        "    self.decoder = decoder\n",
        "    self.src_embed = src_embed\n",
        "    self.tgt_embed = tgt_embed\n",
        "    self.generator = generator\n",
        "\n",
        "  def encode(self, src, src_mask):\n",
        "    \"\"\"\n",
        "    Forward pass of the encoder. Embed the src text\n",
        "    and mask it. Then you run a fwd pass of the encoder on it.\n",
        "\n",
        "    This is the shell of the first half of the transformer's\n",
        "    forward pass. We will code the specfics of this when we\n",
        "    design the encoder.\n",
        "    \"\"\"\n",
        "    return self.encoder(self.src_embed(src), src_mask)\n",
        "\n",
        "  def decode(self, memory, src_mask, tgt, tgt_mask):\n",
        "    \"\"\"\n",
        "    This is the shell of the second half of the forward pass of\n",
        "    the transformer. We will also specify this further ahead.\n",
        "\n",
        "    The decoder has a memory component because it also takes in\n",
        "    the already generated words in its output.\n",
        "    \"\"\"\n",
        "    return self.decoder(self.tgt_embed(tgt), memory, src_mask, tgt_mask)\n",
        "\n",
        "  def forward(self, src, tgt, src_mask, tgt_mask):\n",
        "    \"Take in and process masked src and target sequences.\"\n",
        "    return self.decode(self.encode(src, src_mask), src_mask, tgt, tgt_mask)"
      ],
      "metadata": {
        "id": "yOovacTuOOaR"
      },
      "execution_count": 126,
      "outputs": []
    },
    {
      "cell_type": "markdown",
      "source": [
        "***The Annotated Transformer*** also defines the generator portion of the transformer here. This is given in the ***Attention is All You Need*** paper by the linear portion following the decoder along with the softmax step following it. This linear layer is not the same as the linear layers that are in both the encoder and decoder."
      ],
      "metadata": {
        "id": "Skj7W9ib8MrZ"
      }
    },
    {
      "cell_type": "code",
      "source": [
        "class Generator(nn.Module):\n",
        "  \"\"\"\n",
        "  As described above, the Generator follows the Decoder.\n",
        "  This portion seems relatively simple.\n",
        "  It's simply a fully connected Linear step followed by softmax.\n",
        "  \"\"\"\n",
        "  def __init__(self, d_model, vocab):\n",
        "    super(Generator, self).__init__()\n",
        "    self.proj = nn.Linear(d_model, vocab)\n",
        "\n",
        "  def forward(self, x):\n",
        "    return nn.functional.log_softmax(self.proj(x), dim=1)"
      ],
      "metadata": {
        "id": "1qwbXpvz8MYp"
      },
      "execution_count": 127,
      "outputs": []
    },
    {
      "cell_type": "markdown",
      "source": [
        "**Section 3.1**: The paper describes the nature of the Encoder and Decoder here.\n",
        "\n",
        "###Encoder\n",
        "    \n",
        "The encoder has $N$ stacked layers that are all the same. Each layer has a Multi-Head Attention sublayer that feeds into a position-wise fully connected feed-forward network.The output of each sublayer is given by $\\text{LayerNorm}(x + \\text{Sublayer}(x))$ where $\\text{Sublayer}(x)$ is the forward pass function of the sublayer in question.\n",
        "\n",
        "`LayerNorm` is layer normalization. **The Annotated Transformer** implements it manually so I will do the same to avoid issues further ahead but I believe what is being done here is very similar to the implementation in [`torch.nn.LayerNorm`](https://pytorch.org/docs/stable/generated/torch.nn.LayerNorm.html).\n",
        "\n",
        "There is also the question of a residual connection between the sublayers alongside the norm. In the paper it is mentioned that a sublayer dropout is implemented before the normalization with $P_{\\text{drop}}=0.1$ in **Section 5.4**.\n",
        "\n",
        "In the paper the encoder has $N=6$ stacked layers."
      ],
      "metadata": {
        "id": "8cQ37aw4HSor"
      }
    },
    {
      "cell_type": "code",
      "source": [
        "class LayerNorm(nn.Module):\n",
        "  def __init__(self, features, eps=1e-6):\n",
        "    super(LayerNorm, self).__init__()\n",
        "    self.a_2 = nn.Parameter(torch.ones(features))\n",
        "    self.b_2 = nn.Parameter(torch.zeros(features))\n",
        "    self.eps = eps\n",
        "\n",
        "  def forward(self, x):\n",
        "    mean = x.mean(-1, keepdim=True)\n",
        "    std = x.std(-1, keepdim=True)\n",
        "    return self.a_2*(x-mean)/(std+self.eps) +self.b_2"
      ],
      "metadata": {
        "id": "NSlYM-YHN2MQ"
      },
      "execution_count": 128,
      "outputs": []
    },
    {
      "cell_type": "code",
      "source": [
        "class SublayerConnection(nn.Module):\n",
        "  \"\"\"\n",
        "  Residual Connection with dropout followed by LayerNorm.\n",
        "\n",
        "  This accomplishes the aforementioned residual connection\n",
        "  with normalization used between the sublayers of the Encoder.\n",
        "\n",
        "  dropout has default prob=0.1 like in the paper.\n",
        "  \"\"\"\n",
        "  def __init__(self, size, dropout=0.1):\n",
        "    super(SublayerConnection, self).__init__()\n",
        "    self.norm = LayerNorm(size)\n",
        "    self.dropout = nn.Dropout(dropout)\n",
        "\n",
        "  def forward(self, x, sublayer):\n",
        "    return x+self.dropout(sublayer(self.norm(x)))\n"
      ],
      "metadata": {
        "id": "__2cPxY7Q_bf"
      },
      "execution_count": 129,
      "outputs": []
    },
    {
      "cell_type": "markdown",
      "source": [
        "I think I see why this is self-implemented. This will do LayerNorm for multiple stacked layers as a single layer in an `EncoderLayer` implementation."
      ],
      "metadata": {
        "id": "do---aJfPk3e"
      }
    },
    {
      "cell_type": "code",
      "source": [
        "def clones(module, N):\n",
        "  #produces N-stack of identical layers\n",
        "  return nn.ModuleList([copy.deepcopy(module) for _ in range(N)])\n",
        "\n",
        "class Encoder(nn.Module):\n",
        "  def __init__(self, layer, N):\n",
        "    super(Encoder, self).__init__()\n",
        "    self.layers = clones(layer, N)\n",
        "    self.norm = LayerNorm(layer.size)\n",
        "\n",
        "  def forward(self, x, mask):\n",
        "    \"Forward pass of the encoder. Include mask.\"\n",
        "    for layer in self.layers:\n",
        "      x = layer(x, mask)\n",
        "    return self.norm(x)"
      ],
      "metadata": {
        "id": "c9Boxl8KyoYc"
      },
      "execution_count": 130,
      "outputs": []
    },
    {
      "cell_type": "code",
      "source": [
        "class EncoderLayer(nn.Module):\n",
        "  \"\"\"\n",
        "  This is the fundamental architecture of a single Encoder Layer.\n",
        "\n",
        "  The encoder will be made up of N stacked copies of this (N=6).\n",
        "\n",
        "  We have yet to implement the key feature: Multi-Head Attention.\n",
        "\n",
        "  This will be implemented and explained below.\n",
        "  \"\"\"\n",
        "  def __init__(self, size, self_attn, feed_forward, dropout=0.1):\n",
        "    super(EncoderLayer, self).__init__()\n",
        "    self.self_attn = self_attn #multi-head attention layer\n",
        "    self.feed_forward = feed_forward\n",
        "    # N=2 sublayer connections here are not to be thought of\n",
        "    # as \"stacked\" but rather they are just the sublayer connection\n",
        "    # following the MHA layer and then the feedforward layer.\n",
        "    self.sublayer = clones(SublayerConnection(size, dropout), 2)\n",
        "    self.size = size\n",
        "\n",
        "  def forward(self, x, mask):\n",
        "    x = self.sublayer[0](x, lambda x: self.self_attn(x, x, x, mask))\n",
        "    return self.sublayer[1](x, self.feed_forward)\n"
      ],
      "metadata": {
        "id": "8WWmtpG2Tghz"
      },
      "execution_count": 131,
      "outputs": []
    },
    {
      "cell_type": "markdown",
      "source": [
        "###Decoder\n",
        "    \n",
        "The decoder is similar to the encoder in that it employs $N=6$ stacked layers that are exactly alike. It also shares a similar sublayer connection to the Encoder but it has *two* MHA sublayers.\n",
        "\n",
        "The first performs masked MHA over the output embedding (the mask is there to prevent signal from later words in the output from reaching prediction on earlier words).\n",
        "\n",
        "The second sublayer performs MHA over the output from the encoder and maintains the sublayer scheme from before.\n",
        "\n",
        "This all goes into the third sublayer (feed-forward) in a similar fashion to the encoder layer."
      ],
      "metadata": {
        "id": "i7eRs5HQMmq8"
      }
    },
    {
      "cell_type": "code",
      "source": [
        "class Decoder(nn.Module):\n",
        "\n",
        "  def __init__(self, layer, N):\n",
        "    super(Decoder, self).__init__()\n",
        "    self.layers = clones(layer, N)\n",
        "    self.norm = LayerNorm(layer.size)\n",
        "\n",
        "  def forward(self, x, memory, src_mask, tgt_mask):\n",
        "    for layer in self.layers:\n",
        "      x = layer(x, memory, src_mask, tgt_mask)\n",
        "      return self.norm(x)"
      ],
      "metadata": {
        "id": "Gkq0uBseMble"
      },
      "execution_count": 132,
      "outputs": []
    },
    {
      "cell_type": "markdown",
      "source": [
        "We will make the `DecoderLayer` class using the `SublayerConnection` class we made before. MHA is yet to be implemented, it will be accounted for in the `DecoderLayer` class."
      ],
      "metadata": {
        "id": "A9aF4pNVpRtr"
      }
    },
    {
      "cell_type": "code",
      "source": [
        "class DecoderLayer(nn.Module):\n",
        "\n",
        "  def __init__(self, size, self_attn, src_attn, feed_forward, dropout):\n",
        "    super(DecoderLayer, self).__init__()\n",
        "    self.size = size\n",
        "    self.self_attn = self_attn\n",
        "    self.src_attn = src_attn\n",
        "    self.feed_forward = feed_forward\n",
        "    self.sublayer = clones(SublayerConnection(size, dropout), 3)\n",
        "\n",
        "  def forward(self, x, memory, src_mask, tgt_mask):\n",
        "    m = memory\n",
        "    x = self.sublayer[0](x, lambda x: self.self_attn(x, x, x, tgt_mask))\n",
        "    x = self.sublayer[1](x, lambda x: self.src_attn(x, m, m, src_mask))\n",
        "    return self.sublayer[2](x, self.feed_forward)"
      ],
      "metadata": {
        "id": "sVlN6-qOpHcQ"
      },
      "execution_count": 133,
      "outputs": []
    },
    {
      "cell_type": "markdown",
      "source": [
        "We need to include the mask to mask out subsequent words in the output. This way we avoid the signal from later words (or positions) in the output from reaching earlier ones."
      ],
      "metadata": {
        "id": "XQUk3jSEshHR"
      }
    },
    {
      "cell_type": "code",
      "source": [
        "def subsequent_mask(size):\n",
        "  attn_shape = (1,size,size)\n",
        "  subsequent_mask = torch.triu(torch.ones(attn_shape), diagonal=1).type(torch.uint8)\n",
        "  return subsequent_mask == 0"
      ],
      "metadata": {
        "id": "aODuGPzDtLtN"
      },
      "execution_count": 134,
      "outputs": []
    },
    {
      "cell_type": "markdown",
      "source": [
        "###Attention\n",
        "\n",
        "In the paper there are two parts to *Multi-Headed Attention*. There is **Scaled Dot-Product Attention** which feeds into **Multi-Headed Attention**."
      ],
      "metadata": {
        "id": "gFdP7Xovx58Y"
      }
    },
    {
      "cell_type": "markdown",
      "source": [
        "![](https://machinelearningmastery.com/wp-content/uploads/2022/03/dotproduct_1.png)"
      ],
      "metadata": {
        "id": "5VrCjoXtz8p2"
      }
    },
    {
      "cell_type": "markdown",
      "source": [
        "The reason we scale dot product attention by $\\frac{1}{\\sqrt{d_k}}$ is because as $d_k$ (the dimension of the query and key vectors) goes up, the dot products grow large in magnitude. This makes `softmax` have very small gradients which adversely affects model performance. The scaling of dot products counteracts this precise issue.\n",
        "\n",
        "Imagine the components of $Q$, $K$ are random variables with mean=0 and variance=1. This means their dot-product has mean=0 and variance=$d_k$=$d_q$."
      ],
      "metadata": {
        "id": "e2WyEGVU8kqV"
      }
    },
    {
      "cell_type": "code",
      "source": [
        "#First we implement Scaled Dot Product Attention\n",
        "def attention(Q:torch.Tensor, K:torch.Tensor, V:torch.Tensor, mask=None, dropout=None):\n",
        "  d_k = Q.size(-1) #d_k is the dimension of queries and keys\n",
        "  #The reason we divide by d_k is given above.\n",
        "  scores = torch.matmul(Q, K.transpose(-2,-1)) / math.sqrt(d_k)\n",
        "  if mask is not None:\n",
        "    #we fill zeroes with something like -inf\n",
        "    #this is to bring them close to 0 in softmax\n",
        "    scores = scores.masked_fill(mask == 0, -1e9)\n",
        "\n",
        "  p_attn = scores.softmax(dim=-1)\n",
        "  if dropout is not None:\n",
        "    p_attn = dropout(p_attn)\n",
        "  return torch.matmul(p_attn, V), p_attn\n"
      ],
      "metadata": {
        "id": "-EiIWFi0z8OC"
      },
      "execution_count": 135,
      "outputs": []
    },
    {
      "cell_type": "markdown",
      "source": [
        "**Section 3.2.2**:\n",
        "\n",
        "We will implement Multi-Headed Attention here. This is the crux of the Transformer model.\n",
        "\n",
        "I will comment anything I find helpful in explaining the structure in the code itself. This is because even though the general intuition behind attention makes sense, the whole point of this exercise is to understand the specifics of its implementation in the Transformer model."
      ],
      "metadata": {
        "id": "Wq8CQyRG6Ys8"
      }
    },
    {
      "cell_type": "markdown",
      "source": [
        "The \"*multi-head*\" part of MHA is accomplished by a series of $h$ learned projections where $h$ is the number of heads. We have $h=8$ parallel attention layers. Each of these project $Q$, $K$, $V$ into $d_k$, $d_k$, and $d_v$ dimensions via learned parameter matrices described below.\n",
        "\n",
        "$$i \\in \\{1,…,h\\}$$\n",
        "$$W_i^Q, W_i^K \\in \\mathbb{R}^{d_{\\text{model}}×d_k}$$\n",
        "$$W_i^V \\in \\mathbb{R}^{d_{\\text{model}}×d_v}$$\n",
        "$$W^O \\in \\mathbb{R}^{hd_{v}×d_{\\text{model}}}$$\n",
        "\n",
        "Each of the projections for a head are given:\n",
        "$$QW_i^Q, KW_i^K, VW_i^V$$\n",
        "\n",
        "And the attention function of each head is modeled:\n",
        "$$\\text{head}_i = \\text{Attention}(QW_i^Q, KW_i^K, VW_i^V)$$\n",
        "\n",
        "The way we bring these heads' output together is by concatenating and mapping back into the model space $\\mathbb{R}^{d_{\\text{model}}}$ with the parameter matrix $W^O$.\n",
        "\n",
        "So the Multi-Head Attention function is given:\n",
        "$$\\text{MultiHead}(Q,K,V) = \\text{Concat}(\\text{head}_1,…,\\text{head}_h)W^O$$"
      ],
      "metadata": {
        "id": "f2Q5LxrM-j5e"
      }
    },
    {
      "cell_type": "code",
      "source": [
        "#Implementing Multi-Head Attention\n",
        "class MultiHeadAttention(nn.Module):\n",
        "  def __init__(self, h, d_model, dropout=0.1):\n",
        "    super(MultiHeadAttention, self).__init__()\n",
        "    #make sure model dimension is divisible into h heads\n",
        "    assert d_model % h == 0\n",
        "    #Remember the note above, in this paper:\n",
        "    #𝑑_𝑞=𝑑_𝑘=𝑑_𝑣=𝑑_model/ℎ\n",
        "    self.d_k = d_model//h #this will act as d_q ,d_v for us\n",
        "    self.h = h\n",
        "    #TODO: what are the cloned linears for? FOR PROJECTION\n",
        "    #TODO: Why are there FOUR and not THREE? LAST ONE IS FOR FINAL LINEAR\n",
        "    self.linears = clones(nn.Linear(d_model, d_model), 4)\n",
        "    self.attn = None\n",
        "    self.dropout = nn.Dropout(p=dropout)\n",
        "\n",
        "  def forward(self, query, key, value, mask=None):\n",
        "    if mask is not None:\n",
        "      #apply the same mask to all the heads\n",
        "      mask = mask.unsqueeze(1)\n",
        "    nbatches = query.size(0)\n",
        "\n",
        "    #now we do the linear projections from d_model => d_k\n",
        "    #the projections for Q, K, V are all the same dimension\n",
        "\n",
        "    #TODO: map out dimensions of each Q, K, V transform here\n",
        "\n",
        "    ziplist = list(zip(self.linears, (query, key, value)))\n",
        "    zipshapes = [(x[0], x[1].size()) for x in ziplist]\n",
        "\n",
        "\n",
        "    query, key, value = [\n",
        "        #apply linear projections\n",
        "        lin(x).view(nbatches, -1, self.h, self.d_k).transpose(1,2)\n",
        "        for lin, x in zip(self.linears, (query, key, value))\n",
        "    ]\n",
        "\n",
        "    #apply attention on projections\n",
        "    x, self.attn = attention(\n",
        "        query, key, value, mask=mask, dropout=self.dropout\n",
        "    )\n",
        "\n",
        "    #Concat with a view and apply a linear layer\n",
        "    x = (\n",
        "        x.transpose(1,2)\n",
        "        .contiguous()\n",
        "        .view(nbatches, -1, self.h*self.d_k)\n",
        "    )\n",
        "    del query\n",
        "    del key\n",
        "    del value\n",
        "    return self.linears[-1](x)"
      ],
      "metadata": {
        "id": "4uwG9jWrv2-g"
      },
      "execution_count": 136,
      "outputs": []
    },
    {
      "cell_type": "markdown",
      "source": [
        "Note that in the **Attention is All You Need** paper, $h=8$ heads (parallel layers) are used. And in this case, $d_q=d_k=d_v=d_{\\text{model}}/h = 64$.\n",
        "\n",
        "**Section 3.2.3**:\n",
        "\n",
        "#### Encoder Self-Attention:\n",
        "In the encoder self-attention layer the queries, keys, and values all come from the prior layer's output. Each position can attend to every position in the prior layer.\n",
        "\n",
        "We see this in the code for the `EncoderLayer` class when we use\n",
        "\n",
        "    x = self.sublayer[0](x, lambda x: self.self_attn(x, x, x, mask))\n",
        "\n",
        "in the forward pass. Here, the mask will be `None` since no masking is needed.\n",
        "\n",
        "#### Decoder Self-Attention:\n",
        "Decoder self attention is similar to encoder attention except we employ the mask seen in `subsequent_mask` to mask out subsequent positions to prevent backward information flow in the output. We see how this essentially turns the illegal connections to `-inf` in the `attention` function with the line `scores = scores.masked_fill(mask == 0, -1e9)`. We see this in the `DecoderLayer` code forward pass in this line:\n",
        "\n",
        "    x = self.sublayer[0](x, lambda x: self.self_attn(x, x, x, tgt_mask))\n",
        "\n",
        "#### Encoder-Decoder Attention:\n",
        "In this case the queries come from the previous decoder layer while the keys and values come from the `memory` generated by the `Encoder` output. This is identical to *Seq2Seq* models' encoder-decoder attention. This is seen in the line immediately following the one where decoder self-attention is implemented in `DecoderLayer`:\n",
        "\n",
        "    x = self.sublayer[1](x, lambda x: self.src_attn(x, m, m, src_mask))"
      ],
      "metadata": {
        "id": "-cgQJo20MfxZ"
      }
    },
    {
      "cell_type": "markdown",
      "source": [
        "###Position-Wise FeedForward\n",
        "**Section 3.3** outlines how the Position-wise Feed-Forward networks we use in the Transformer are defined.\n",
        "\n",
        "The basic function defined is a composition of two linear layers with a ReLU activation between them:\n",
        "\n",
        "$$\\text{FFN}(x)=\\text{max}(0,xW_1+b_1)W_2+b_2$$\n",
        "\n",
        "In the paper $d_{\\text{model}}/8=64$ so $d_{\\text{model}} = 512$. We are also given the inner-layer dimension to be: $d_{ff}=2048=d_{\\text{model}}*4$"
      ],
      "metadata": {
        "id": "btXMh-AeaE6p"
      }
    },
    {
      "cell_type": "code",
      "source": [
        "class PositionwiseFeedForward(nn.Module):\n",
        "  def __init__(self, d_model, d_ff, dropout=0.1):\n",
        "    super(PositionwiseFeedForward, self).__init__()\n",
        "    self.w_1 = nn.Linear(d_model, d_ff)\n",
        "    self.w_2 = nn.Linear(d_ff, d_model)\n",
        "    self.dropout = nn.Dropout(dropout)\n",
        "    self.relu = nn.ReLU()\n",
        "\n",
        "  def forward(self, x):\n",
        "    return self.w_2(self.dropout(self.relu(self.w_1(x))))"
      ],
      "metadata": {
        "id": "YPxf7PR9TOzt"
      },
      "execution_count": 137,
      "outputs": []
    },
    {
      "cell_type": "markdown",
      "source": [
        "**Section 3.4**:\n",
        "\n",
        "###Embeddings and Positional Encoding\n"
      ],
      "metadata": {
        "id": "we6qEjEsecyC"
      }
    },
    {
      "cell_type": "markdown",
      "source": [
        "####Embeddings\n",
        "\n",
        "We need to embed the input and output tokens into $d_{\\text{model}}$-dimensional vectors. We use learned embeddings to do this. We share the weight matrix between the pre-softmax linear transform in both input and output embedding layers."
      ],
      "metadata": {
        "id": "33ctoC6Guuex"
      }
    },
    {
      "cell_type": "code",
      "source": [
        "class Embeddings(nn.Module):\n",
        "  def __init__(self, d_model, vocab):\n",
        "    super(Embeddings, self).__init__()\n",
        "    self.lut = nn.Embedding(vocab, d_model)\n",
        "    self.d_model = d_model\n",
        "\n",
        "  def forward(self, x):\n",
        "    return self.lut(x)*math.sqrt(self.d_model)"
      ],
      "metadata": {
        "id": "d0M-i_2hf7dz"
      },
      "execution_count": 138,
      "outputs": []
    },
    {
      "cell_type": "markdown",
      "source": [
        "`self.lut` above uses a linear transform to use a lookup table embedding. We multiply the pre-softmax linear transformation output with $\\sqrt{d_{\\text{model}}}$."
      ],
      "metadata": {
        "id": "fHxFIfM1hN8m"
      }
    },
    {
      "cell_type": "markdown",
      "source": [
        "**Section 3.4**:\n",
        "\n",
        "####Positional Encoding\n",
        "We need a way to encode the relative or absolute positions of the words (tokens) in the sequence. We don't use any recurrence or convolution so we need to add information about token position in another way.\n",
        "\n",
        "We use sinusoids scaled based on the dimension and position to differentiate positional data in the embedding vectors.\n",
        "\n",
        "The exact details will become clear in the implementation below."
      ],
      "metadata": {
        "id": "ptP91-MXiVoo"
      }
    },
    {
      "cell_type": "code",
      "source": [
        "class PositionalEncoding(nn.Module):\n",
        "  def __init__(self, d_model, dropout, max_len=5000):\n",
        "    super(PositionalEncoding, self).__init__()\n",
        "    self.dropout = nn.Dropout(p=dropout)\n",
        "\n",
        "    #max_len is max length of sequences allowed.\n",
        "    pe = torch.zeros(max_len, d_model)\n",
        "    position = torch.arange(0, max_len).unsqueeze(1)\n",
        "    div_term = torch.exp(\n",
        "        torch.arange(0, d_model, 2)*-(math.log(10000.0)/d_model)\n",
        "    )\n",
        "    pe[:, 0::2] = torch.sin(position * div_term)\n",
        "    pe[:, 1::2] = torch.cos(position * div_term)\n",
        "    pe = pe.unsqueeze(0)\n",
        "\n",
        "    #register_buffer is used because it doesn't\n",
        "    #create a parameter. This means optimizer will not alter it\n",
        "    self.register_buffer(\"pe\", pe)\n",
        "\n",
        "  def forward(self, x):\n",
        "    x = x + self.pe[:, : x.size(1)].requires_grad_(False)\n",
        "    return self.dropout(x)"
      ],
      "metadata": {
        "id": "FRYYvHTPhKgX"
      },
      "execution_count": 139,
      "outputs": []
    },
    {
      "cell_type": "code",
      "source": [
        "#to get a better idea of how the positional encoding\n",
        "#sinewaves look, we can do some visualization\n",
        "def example_positional():\n",
        "    pe = PositionalEncoding(20, 0)\n",
        "    y = pe.forward(torch.zeros(1, 100, 20))\n",
        "\n",
        "    data = pd.concat(\n",
        "        [\n",
        "            pd.DataFrame(\n",
        "                {\n",
        "                    \"embedding\": y[0, :, dim],\n",
        "                    \"dimension\": dim,\n",
        "                    \"position\": list(range(100)),\n",
        "                }\n",
        "            )\n",
        "            for dim in [4, 5, 6, 7]\n",
        "        ]\n",
        "    )\n",
        "\n",
        "    return (\n",
        "        alt.Chart(data)\n",
        "        .mark_line()\n",
        "        .properties(width=800)\n",
        "        .encode(x=\"position\", y=\"embedding\", color=\"dimension:N\")\n",
        "        .interactive()\n",
        "    )\n",
        "\n",
        "\n",
        "show_example(example_positional)"
      ],
      "metadata": {
        "colab": {
          "base_uri": "https://localhost:8080/",
          "height": 389
        },
        "id": "pmZ7tFK_psWI",
        "outputId": "346ea1be-2996-4c13-dce8-9f871c518af5"
      },
      "execution_count": 140,
      "outputs": [
        {
          "output_type": "execute_result",
          "data": {
            "text/html": [
              "\n",
              "<div id=\"altair-viz-2b0414842b5b4e048b747173ed27871b\"></div>\n",
              "<script type=\"text/javascript\">\n",
              "  var VEGA_DEBUG = (typeof VEGA_DEBUG == \"undefined\") ? {} : VEGA_DEBUG;\n",
              "  (function(spec, embedOpt){\n",
              "    let outputDiv = document.currentScript.previousElementSibling;\n",
              "    if (outputDiv.id !== \"altair-viz-2b0414842b5b4e048b747173ed27871b\") {\n",
              "      outputDiv = document.getElementById(\"altair-viz-2b0414842b5b4e048b747173ed27871b\");\n",
              "    }\n",
              "    const paths = {\n",
              "      \"vega\": \"https://cdn.jsdelivr.net/npm//vega@5?noext\",\n",
              "      \"vega-lib\": \"https://cdn.jsdelivr.net/npm//vega-lib?noext\",\n",
              "      \"vega-lite\": \"https://cdn.jsdelivr.net/npm//vega-lite@4.17.0?noext\",\n",
              "      \"vega-embed\": \"https://cdn.jsdelivr.net/npm//vega-embed@6?noext\",\n",
              "    };\n",
              "\n",
              "    function maybeLoadScript(lib, version) {\n",
              "      var key = `${lib.replace(\"-\", \"\")}_version`;\n",
              "      return (VEGA_DEBUG[key] == version) ?\n",
              "        Promise.resolve(paths[lib]) :\n",
              "        new Promise(function(resolve, reject) {\n",
              "          var s = document.createElement('script');\n",
              "          document.getElementsByTagName(\"head\")[0].appendChild(s);\n",
              "          s.async = true;\n",
              "          s.onload = () => {\n",
              "            VEGA_DEBUG[key] = version;\n",
              "            return resolve(paths[lib]);\n",
              "          };\n",
              "          s.onerror = () => reject(`Error loading script: ${paths[lib]}`);\n",
              "          s.src = paths[lib];\n",
              "        });\n",
              "    }\n",
              "\n",
              "    function showError(err) {\n",
              "      outputDiv.innerHTML = `<div class=\"error\" style=\"color:red;\">${err}</div>`;\n",
              "      throw err;\n",
              "    }\n",
              "\n",
              "    function displayChart(vegaEmbed) {\n",
              "      vegaEmbed(outputDiv, spec, embedOpt)\n",
              "        .catch(err => showError(`Javascript Error: ${err.message}<br>This usually means there's a typo in your chart specification. See the javascript console for the full traceback.`));\n",
              "    }\n",
              "\n",
              "    if(typeof define === \"function\" && define.amd) {\n",
              "      requirejs.config({paths});\n",
              "      require([\"vega-embed\"], displayChart, err => showError(`Error loading script: ${err.message}`));\n",
              "    } else {\n",
              "      maybeLoadScript(\"vega\", \"5\")\n",
              "        .then(() => maybeLoadScript(\"vega-lite\", \"4.17.0\"))\n",
              "        .then(() => maybeLoadScript(\"vega-embed\", \"6\"))\n",
              "        .catch(showError)\n",
              "        .then(() => displayChart(vegaEmbed));\n",
              "    }\n",
              "  })({\"config\": {\"view\": {\"continuousWidth\": 400, \"continuousHeight\": 300}}, \"data\": {\"name\": \"data-eafc635ddfa311c913cbcc2d2bc4477d\"}, \"mark\": \"line\", \"encoding\": {\"color\": {\"field\": \"dimension\", \"type\": \"nominal\"}, \"x\": {\"field\": \"position\", \"type\": \"quantitative\"}, \"y\": {\"field\": \"embedding\", \"type\": \"quantitative\"}}, \"selection\": {\"selector006\": {\"type\": \"interval\", \"bind\": \"scales\", \"encodings\": [\"x\", \"y\"]}}, \"width\": 800, \"$schema\": \"https://vega.github.io/schema/vega-lite/v4.17.0.json\", \"datasets\": {\"data-eafc635ddfa311c913cbcc2d2bc4477d\": [{\"embedding\": 0.0, \"dimension\": 4, \"position\": 0}, {\"embedding\": 0.15782663226127625, \"dimension\": 4, \"position\": 1}, {\"embedding\": 0.3116971552371979, \"dimension\": 4, \"position\": 2}, {\"embedding\": 0.45775455236434937, \"dimension\": 4, \"position\": 3}, {\"embedding\": 0.5923377275466919, \"dimension\": 4, \"position\": 4}, {\"embedding\": 0.7120732069015503, \"dimension\": 4, \"position\": 5}, {\"embedding\": 0.813959538936615, \"dimension\": 4, \"position\": 6}, {\"embedding\": 0.8954429626464844, \"dimension\": 4, \"position\": 7}, {\"embedding\": 0.9544808864593506, \"dimension\": 4, \"position\": 8}, {\"embedding\": 0.989593505859375, \"dimension\": 4, \"position\": 9}, {\"embedding\": 0.9999006390571594, \"dimension\": 4, \"position\": 10}, {\"embedding\": 0.9851439595222473, \"dimension\": 4, \"position\": 11}, {\"embedding\": 0.94569331407547, \"dimension\": 4, \"position\": 12}, {\"embedding\": 0.8825376033782959, \"dimension\": 4, \"position\": 13}, {\"embedding\": 0.7972599267959595, \"dimension\": 4, \"position\": 14}, {\"embedding\": 0.6919978260993958, \"dimension\": 4, \"position\": 15}, {\"embedding\": 0.5693899393081665, \"dimension\": 4, \"position\": 16}, {\"embedding\": 0.4325096309185028, \"dimension\": 4, \"position\": 17}, {\"embedding\": 0.284787654876709, \"dimension\": 4, \"position\": 18}, {\"embedding\": 0.12992730736732483, \"dimension\": 4, \"position\": 19}, {\"embedding\": -0.028190065175294876, \"dimension\": 4, \"position\": 20}, {\"embedding\": -0.18560057878494263, \"dimension\": 4, \"position\": 21}, {\"embedding\": -0.3383587896823883, \"dimension\": 4, \"position\": 22}, {\"embedding\": -0.4826357960700989, \"dimension\": 4, \"position\": 23}, {\"embedding\": -0.6148146390914917, \"dimension\": 4, \"position\": 24}, {\"embedding\": -0.7315824031829834, \"dimension\": 4, \"position\": 25}, {\"embedding\": -0.8300122618675232, \"dimension\": 4, \"position\": 26}, {\"embedding\": -0.9076365828514099, \"dimension\": 4, \"position\": 27}, {\"embedding\": -0.96250981092453, \"dimension\": 4, \"position\": 28}, {\"embedding\": -0.9932565093040466, \"dimension\": 4, \"position\": 29}, {\"embedding\": -0.9991058707237244, \"dimension\": 4, \"position\": 30}, {\"embedding\": -0.9799113273620605, \"dimension\": 4, \"position\": 31}, {\"embedding\": -0.9361540079116821, \"dimension\": 4, \"position\": 32}, {\"embedding\": -0.8689308166503906, \"dimension\": 4, \"position\": 33}, {\"embedding\": -0.7799267172813416, \"dimension\": 4, \"position\": 34}, {\"embedding\": -0.6713724136352539, \"dimension\": 4, \"position\": 35}, {\"embedding\": -0.5459895133972168, \"dimension\": 4, \"position\": 36}, {\"embedding\": -0.40692076086997986, \"dimension\": 4, \"position\": 37}, {\"embedding\": -0.2576519548892975, \"dimension\": 4, \"position\": 38}, {\"embedding\": -0.10192479938268661, \"dimension\": 4, \"position\": 39}, {\"embedding\": 0.056357722729444504, \"dimension\": 4, \"position\": 40}, {\"embedding\": 0.21322709321975708, \"dimension\": 4, \"position\": 41}, {\"embedding\": 0.3647516369819641, \"dimension\": 4, \"position\": 42}, {\"embedding\": 0.5071332454681396, \"dimension\": 4, \"position\": 43}, {\"embedding\": 0.6368028521537781, \"dimension\": 4, \"position\": 44}, {\"embedding\": 0.7505101561546326, \"dimension\": 4, \"position\": 45}, {\"embedding\": 0.8454052805900574, \"dimension\": 4, \"position\": 46}, {\"embedding\": 0.9191088080406189, \"dimension\": 4, \"position\": 47}, {\"embedding\": 0.9697737693786621, \"dimension\": 4, \"position\": 48}, {\"embedding\": 0.9961300492286682, \"dimension\": 4, \"position\": 49}, {\"embedding\": 0.9975170493125916, \"dimension\": 4, \"position\": 50}, {\"embedding\": 0.9738998413085938, \"dimension\": 4, \"position\": 51}, {\"embedding\": 0.9258706569671631, \"dimension\": 4, \"position\": 52}, {\"embedding\": 0.8546332716941833, \"dimension\": 4, \"position\": 53}, {\"embedding\": 0.7619734406471252, \"dimension\": 4, \"position\": 54}, {\"embedding\": 0.6502137184143066, \"dimension\": 4, \"position\": 55}, {\"embedding\": 0.5221555233001709, \"dimension\": 4, \"position\": 56}, {\"embedding\": 0.38100889325141907, \"dimension\": 4, \"position\": 57}, {\"embedding\": 0.23031172156333923, \"dimension\": 4, \"position\": 58}, {\"embedding\": 0.07384055852890015, \"dimension\": 4, \"position\": 59}, {\"embedding\": -0.08448058366775513, \"dimension\": 4, \"position\": 60}, {\"embedding\": -0.2406841218471527, \"dimension\": 4, \"position\": 61}, {\"embedding\": -0.3908545970916748, \"dimension\": 4, \"position\": 62}, {\"embedding\": -0.5312277674674988, \"dimension\": 4, \"position\": 63}, {\"embedding\": -0.6582850813865662, \"dimension\": 4, \"position\": 64}, {\"embedding\": -0.768841564655304, \"dimension\": 4, \"position\": 65}, {\"embedding\": -0.8601260781288147, \"dimension\": 4, \"position\": 66}, {\"embedding\": -0.9298503994941711, \"dimension\": 4, \"position\": 67}, {\"embedding\": -0.9762668013572693, \"dimension\": 4, \"position\": 68}, {\"embedding\": -0.9982118010520935, \"dimension\": 4, \"position\": 69}, {\"embedding\": -0.9951352477073669, \"dimension\": 4, \"position\": 70}, {\"embedding\": -0.967114269733429, \"dimension\": 4, \"position\": 71}, {\"embedding\": -0.9148513078689575, \"dimension\": 4, \"position\": 72}, {\"embedding\": -0.839656412601471, \"dimension\": 4, \"position\": 73}, {\"embedding\": -0.7434144616127014, \"dimension\": 4, \"position\": 74}, {\"embedding\": -0.6285378336906433, \"dimension\": 4, \"position\": 75}, {\"embedding\": -0.4979061186313629, \"dimension\": 4, \"position\": 76}, {\"embedding\": -0.3547937273979187, \"dimension\": 4, \"position\": 77}, {\"embedding\": -0.20278796553611755, \"dimension\": 4, \"position\": 78}, {\"embedding\": -0.04569905996322632, \"dimension\": 4, \"position\": 79}, {\"embedding\": 0.11253630369901657, \"dimension\": 4, \"position\": 80}, {\"embedding\": 0.2679498493671417, \"dimension\": 4, \"position\": 81}, {\"embedding\": 0.4166468679904938, \"dimension\": 4, \"position\": 82}, {\"embedding\": 0.5549001097679138, \"dimension\": 4, \"position\": 83}, {\"embedding\": 0.6792440414428711, \"dimension\": 4, \"position\": 84}, {\"embedding\": 0.7865618467330933, \"dimension\": 4, \"position\": 85}, {\"embedding\": 0.8741634488105774, \"dimension\": 4, \"position\": 86}, {\"embedding\": 0.9398530125617981, \"dimension\": 4, \"position\": 87}, {\"embedding\": 0.9819839596748352, \"dimension\": 4, \"position\": 88}, {\"embedding\": 0.9995002150535583, \"dimension\": 4, \"position\": 89}, {\"embedding\": 0.9919626712799072, \"dimension\": 4, \"position\": 90}, {\"embedding\": 0.959559977054596, \"dimension\": 4, \"position\": 91}, {\"embedding\": 0.903104841709137, \"dimension\": 4, \"position\": 92}, {\"embedding\": 0.8240122199058533, \"dimension\": 4, \"position\": 93}, {\"embedding\": 0.7242646217346191, \"dimension\": 4, \"position\": 94}, {\"embedding\": 0.6063624024391174, \"dimension\": 4, \"position\": 95}, {\"embedding\": 0.4732609689235687, \"dimension\": 4, \"position\": 96}, {\"embedding\": 0.32829657196998596, \"dimension\": 4, \"position\": 97}, {\"embedding\": 0.17510302364826202, \"dimension\": 4, \"position\": 98}, {\"embedding\": 0.01752028614282608, \"dimension\": 4, \"position\": 99}, {\"embedding\": 1.0, \"dimension\": 5, \"position\": 0}, {\"embedding\": 0.9874668121337891, \"dimension\": 5, \"position\": 1}, {\"embedding\": 0.9501814842224121, \"dimension\": 5, \"position\": 2}, {\"embedding\": 0.8890786170959473, \"dimension\": 5, \"position\": 3}, {\"embedding\": 0.8056897521018982, \"dimension\": 5, \"position\": 4}, {\"embedding\": 0.7021052241325378, \"dimension\": 5, \"position\": 5}, {\"embedding\": 0.5809215903282166, \"dimension\": 5, \"position\": 6}, {\"embedding\": 0.44517630338668823, \"dimension\": 5, \"position\": 7}, {\"embedding\": 0.2982720732688904, \"dimension\": 5, \"position\": 8}, {\"embedding\": 0.14389123022556305, \"dimension\": 5, \"position\": 9}, {\"embedding\": -0.01409643329679966, \"dimension\": 5, \"position\": 10}, {\"embedding\": -0.1717306226491928, \"dimension\": 5, \"position\": 11}, {\"embedding\": -0.32506027817726135, \"dimension\": 5, \"position\": 12}, {\"embedding\": -0.47024187445640564, \"dimension\": 5, \"position\": 13}, {\"embedding\": -0.6036361455917358, \"dimension\": 5, \"position\": 14}, {\"embedding\": -0.7218996286392212, \"dimension\": 5, \"position\": 15}, {\"embedding\": -0.8220675587654114, \"dimension\": 5, \"position\": 16}, {\"embedding\": -0.9016293287277222, \"dimension\": 5, \"position\": 17}, {\"embedding\": -0.9585906267166138, \"dimension\": 5, \"position\": 18}, {\"embedding\": -0.9915235042572021, \"dimension\": 5, \"position\": 19}, {\"embedding\": -0.9996025562286377, \"dimension\": 5, \"position\": 20}, {\"embedding\": -0.9826252460479736, \"dimension\": 5, \"position\": 21}, {\"embedding\": -0.941017210483551, \"dimension\": 5, \"position\": 22}, {\"embedding\": -0.8758211731910706, \"dimension\": 5, \"position\": 23}, {\"embedding\": -0.788671612739563, \"dimension\": 5, \"position\": 24}, {\"embedding\": -0.6817529797554016, \"dimension\": 5, \"position\": 25}, {\"embedding\": -0.5577451586723328, \"dimension\": 5, \"position\": 26}, {\"embedding\": -0.4197568893432617, \"dimension\": 5, \"position\": 27}, {\"embedding\": -0.27124688029289246, \"dimension\": 5, \"position\": 28}, {\"embedding\": -0.11593768745660782, \"dimension\": 5, \"position\": 29}, {\"embedding\": 0.042278096079826355, \"dimension\": 5, \"position\": 30}, {\"embedding\": 0.19943365454673767, \"dimension\": 5, \"position\": 31}, {\"embedding\": 0.3515901565551758, \"dimension\": 5, \"position\": 32}, {\"embedding\": 0.4949335753917694, \"dimension\": 5, \"position\": 33}, {\"embedding\": 0.6258708238601685, \"dimension\": 5, \"position\": 34}, {\"embedding\": 0.7411201596260071, \"dimension\": 5, \"position\": 35}, {\"embedding\": 0.8377919793128967, \"dimension\": 5, \"position\": 36}, {\"embedding\": 0.9134634733200073, \"dimension\": 5, \"position\": 37}, {\"embedding\": 0.9662377834320068, \"dimension\": 5, \"position\": 38}, {\"embedding\": 0.994792103767395, \"dimension\": 5, \"position\": 39}, {\"embedding\": 0.9984106421470642, \"dimension\": 5, \"position\": 40}, {\"embedding\": 0.9770026803016663, \"dimension\": 5, \"position\": 41}, {\"embedding\": 0.931104838848114, \"dimension\": 5, \"position\": 42}, {\"embedding\": 0.8618676662445068, \"dimension\": 5, \"position\": 43}, {\"embedding\": 0.7710266709327698, \"dimension\": 5, \"position\": 44}, {\"embedding\": 0.6608588695526123, \"dimension\": 5, \"position\": 45}, {\"embedding\": 0.5341253876686096, \"dimension\": 5, \"position\": 46}, {\"embedding\": 0.3940037488937378, \"dimension\": 5, \"position\": 47}, {\"embedding\": 0.24400585889816284, \"dimension\": 5, \"position\": 48}, {\"embedding\": 0.08789165318012238, \"dimension\": 5, \"position\": 49}, {\"embedding\": -0.07042567431926727, \"dimension\": 5, \"position\": 50}, {\"embedding\": -0.2269781529903412, \"dimension\": 5, \"position\": 51}, {\"embedding\": -0.37784066796302795, \"dimension\": 5, \"position\": 52}, {\"embedding\": -0.5192320942878723, \"dimension\": 5, \"position\": 53}, {\"embedding\": -0.6476082801818848, \"dimension\": 5, \"position\": 54}, {\"embedding\": -0.7597513794898987, \"dimension\": 5, \"position\": 55}, {\"embedding\": -0.8528502583503723, \"dimension\": 5, \"position\": 56}, {\"embedding\": -0.9245713949203491, \"dimension\": 5, \"position\": 57}, {\"embedding\": -0.973116934299469, \"dimension\": 5, \"position\": 58}, {\"embedding\": -0.9972700476646423, \"dimension\": 5, \"position\": 59}, {\"embedding\": -0.9964250922203064, \"dimension\": 5, \"position\": 60}, {\"embedding\": -0.9706035256385803, \"dimension\": 5, \"position\": 61}, {\"embedding\": -0.9204524159431458, \"dimension\": 5, \"position\": 62}, {\"embedding\": -0.8472290635108948, \"dimension\": 5, \"position\": 63}, {\"embedding\": -0.7527687549591064, \"dimension\": 5, \"position\": 64}, {\"embedding\": -0.6394393444061279, \"dimension\": 5, \"position\": 65}, {\"embedding\": -0.5100815296173096, \"dimension\": 5, \"position\": 66}, {\"embedding\": -0.3679378628730774, \"dimension\": 5, \"position\": 67}, {\"embedding\": -0.2165713608264923, \"dimension\": 5, \"position\": 68}, {\"embedding\": -0.05977622792124748, \"dimension\": 5, \"position\": 69}, {\"embedding\": 0.09851823002099991, \"dimension\": 5, \"position\": 70}, {\"embedding\": 0.254342257976532, \"dimension\": 5, \"position\": 71}, {\"embedding\": 0.4037908613681793, \"dimension\": 5, \"position\": 72}, {\"embedding\": 0.543117880821228, \"dimension\": 5, \"position\": 73}, {\"embedding\": 0.6688309907913208, \"dimension\": 5, \"position\": 74}, {\"embedding\": 0.7777789831161499, \"dimension\": 5, \"position\": 75}, {\"embedding\": 0.8672309517860413, \"dimension\": 5, \"position\": 76}, {\"embedding\": 0.9349446296691895, \"dimension\": 5, \"position\": 77}, {\"embedding\": 0.9792226552963257, \"dimension\": 5, \"position\": 78}, {\"embedding\": 0.998955249786377, \"dimension\": 5, \"position\": 79}, {\"embedding\": 0.9936476349830627, \"dimension\": 5, \"position\": 80}, {\"embedding\": 0.9634328484535217, \"dimension\": 5, \"position\": 81}, {\"embedding\": 0.9090684056282043, \"dimension\": 5, \"position\": 82}, {\"embedding\": 0.8319169878959656, \"dimension\": 5, \"position\": 83}, {\"embedding\": 0.733912467956543, \"dimension\": 5, \"position\": 84}, {\"embedding\": 0.617511510848999, \"dimension\": 5, \"position\": 85}, {\"embedding\": 0.4856317937374115, \"dimension\": 5, \"position\": 86}, {\"embedding\": 0.3415791094303131, \"dimension\": 5, \"position\": 87}, {\"embedding\": 0.18896427750587463, \"dimension\": 5, \"position\": 88}, {\"embedding\": 0.0316128134727478, \"dimension\": 5, \"position\": 89}, {\"embedding\": -0.12653106451034546, \"dimension\": 5, \"position\": 90}, {\"embedding\": -0.28150418400764465, \"dimension\": 5, \"position\": 91}, {\"embedding\": -0.4294200837612152, \"dimension\": 5, \"position\": 92}, {\"embedding\": -0.5665720105171204, \"dimension\": 5, \"position\": 93}, {\"embedding\": -0.6895220875740051, \"dimension\": 5, \"position\": 94}, {\"embedding\": -0.7951884269714355, \"dimension\": 5, \"position\": 95}, {\"embedding\": -0.880922257900238, \"dimension\": 5, \"position\": 96}, {\"embedding\": -0.9445747137069702, \"dimension\": 5, \"position\": 97}, {\"embedding\": -0.9845501184463501, \"dimension\": 5, \"position\": 98}, {\"embedding\": -0.9998465180397034, \"dimension\": 5, \"position\": 99}, {\"embedding\": 0.0, \"dimension\": 6, \"position\": 0}, {\"embedding\": 0.06305388361215591, \"dimension\": 6, \"position\": 1}, {\"embedding\": 0.12585683166980743, \"dimension\": 6, \"position\": 2}, {\"embedding\": 0.18815888464450836, \"dimension\": 6, \"position\": 3}, {\"embedding\": 0.24971213936805725, \"dimension\": 6, \"position\": 4}, {\"embedding\": 0.31027159094810486, \"dimension\": 6, \"position\": 5}, {\"embedding\": 0.3695962131023407, \"dimension\": 6, \"position\": 6}, {\"embedding\": 0.4274499714374542, \"dimension\": 6, \"position\": 7}, {\"embedding\": 0.4836025834083557, \"dimension\": 6, \"position\": 8}, {\"embedding\": 0.5378305912017822, \"dimension\": 6, \"position\": 9}, {\"embedding\": 0.5899181365966797, \"dimension\": 6, \"position\": 10}, {\"embedding\": 0.6396579146385193, \"dimension\": 6, \"position\": 11}, {\"embedding\": 0.6868520379066467, \"dimension\": 6, \"position\": 12}, {\"embedding\": 0.7313126921653748, \"dimension\": 6, \"position\": 13}, {\"embedding\": 0.7728629112243652, \"dimension\": 6, \"position\": 14}, {\"embedding\": 0.8113372921943665, \"dimension\": 6, \"position\": 15}, {\"embedding\": 0.8465827703475952, \"dimension\": 6, \"position\": 16}, {\"embedding\": 0.8784590363502502, \"dimension\": 6, \"position\": 17}, {\"embedding\": 0.9068393111228943, \"dimension\": 6, \"position\": 18}, {\"embedding\": 0.9316105246543884, \"dimension\": 6, \"position\": 19}, {\"embedding\": 0.9526742100715637, \"dimension\": 6, \"position\": 20}, {\"embedding\": 0.9699464440345764, \"dimension\": 6, \"position\": 21}, {\"embedding\": 0.9833585619926453, \"dimension\": 6, \"position\": 22}, {\"embedding\": 0.9928570985794067, \"dimension\": 6, \"position\": 23}, {\"embedding\": 0.9984043836593628, \"dimension\": 6, \"position\": 24}, {\"embedding\": 0.999978244304657, \"dimension\": 6, \"position\": 25}, {\"embedding\": 0.9975724220275879, \"dimension\": 6, \"position\": 26}, {\"embedding\": 0.9911965131759644, \"dimension\": 6, \"position\": 27}, {\"embedding\": 0.9808759093284607, \"dimension\": 6, \"position\": 28}, {\"embedding\": 0.9666516780853271, \"dimension\": 6, \"position\": 29}, {\"embedding\": 0.9485803842544556, \"dimension\": 6, \"position\": 30}, {\"embedding\": 0.9267339110374451, \"dimension\": 6, \"position\": 31}, {\"embedding\": 0.9011994004249573, \"dimension\": 6, \"position\": 32}, {\"embedding\": 0.8720782399177551, \"dimension\": 6, \"position\": 33}, {\"embedding\": 0.8394865393638611, \"dimension\": 6, \"position\": 34}, {\"embedding\": 0.8035537600517273, \"dimension\": 6, \"position\": 35}, {\"embedding\": 0.7644230127334595, \"dimension\": 6, \"position\": 36}, {\"embedding\": 0.7222501039505005, \"dimension\": 6, \"position\": 37}, {\"embedding\": 0.6772029399871826, \"dimension\": 6, \"position\": 38}, {\"embedding\": 0.6294605135917664, \"dimension\": 6, \"position\": 39}, {\"embedding\": 0.57921302318573, \"dimension\": 6, \"position\": 40}, {\"embedding\": 0.5266605615615845, \"dimension\": 6, \"position\": 41}, {\"embedding\": 0.4720119535923004, \"dimension\": 6, \"position\": 42}, {\"embedding\": 0.41548484563827515, \"dimension\": 6, \"position\": 43}, {\"embedding\": 0.3573042154312134, \"dimension\": 6, \"position\": 44}, {\"embedding\": 0.29770180583000183, \"dimension\": 6, \"position\": 45}, {\"embedding\": 0.23691439628601074, \"dimension\": 6, \"position\": 46}, {\"embedding\": 0.17518411576747894, \"dimension\": 6, \"position\": 47}, {\"embedding\": 0.1127568930387497, \"dimension\": 6, \"position\": 48}, {\"embedding\": 0.04988069087266922, \"dimension\": 6, \"position\": 49}, {\"embedding\": -0.013194027356803417, \"dimension\": 6, \"position\": 50}, {\"embedding\": -0.07621623575687408, \"dimension\": 6, \"position\": 51}, {\"embedding\": -0.1389348804950714, \"dimension\": 6, \"position\": 52}, {\"embedding\": -0.20110084116458893, \"dimension\": 6, \"position\": 53}, {\"embedding\": -0.2624664604663849, \"dimension\": 6, \"position\": 54}, {\"embedding\": -0.3227875530719757, \"dimension\": 6, \"position\": 55}, {\"embedding\": -0.3818237781524658, \"dimension\": 6, \"position\": 56}, {\"embedding\": -0.4393406808376312, \"dimension\": 6, \"position\": 57}, {\"embedding\": -0.49510911107063293, \"dimension\": 6, \"position\": 58}, {\"embedding\": -0.5489069223403931, \"dimension\": 6, \"position\": 59}, {\"embedding\": -0.6005204319953918, \"dimension\": 6, \"position\": 60}, {\"embedding\": -0.6497439742088318, \"dimension\": 6, \"position\": 61}, {\"embedding\": -0.6963817477226257, \"dimension\": 6, \"position\": 62}, {\"embedding\": -0.7402478456497192, \"dimension\": 6, \"position\": 63}, {\"embedding\": -0.7811681628227234, \"dimension\": 6, \"position\": 64}, {\"embedding\": -0.8189795017242432, \"dimension\": 6, \"position\": 65}, {\"embedding\": -0.8535317182540894, \"dimension\": 6, \"position\": 66}, {\"embedding\": -0.8846868872642517, \"dimension\": 6, \"position\": 67}, {\"embedding\": -0.9123212099075317, \"dimension\": 6, \"position\": 68}, {\"embedding\": -0.936324954032898, \"dimension\": 6, \"position\": 69}, {\"embedding\": -0.956602156162262, \"dimension\": 6, \"position\": 70}, {\"embedding\": -0.9730724096298218, \"dimension\": 6, \"position\": 71}, {\"embedding\": -0.9856699705123901, \"dimension\": 6, \"position\": 72}, {\"embedding\": -0.9943448305130005, \"dimension\": 6, \"position\": 73}, {\"embedding\": -0.9990625381469727, \"dimension\": 6, \"position\": 74}, {\"embedding\": -0.9998041391372681, \"dimension\": 6, \"position\": 75}, {\"embedding\": -0.9965668320655823, \"dimension\": 6, \"position\": 76}, {\"embedding\": -0.9893633723258972, \"dimension\": 6, \"position\": 77}, {\"embedding\": -0.9782225489616394, \"dimension\": 6, \"position\": 78}, {\"embedding\": -0.963188648223877, \"dimension\": 6, \"position\": 79}, {\"embedding\": -0.9443213939666748, \"dimension\": 6, \"position\": 80}, {\"embedding\": -0.9216960668563843, \"dimension\": 6, \"position\": 81}, {\"embedding\": -0.8954026699066162, \"dimension\": 6, \"position\": 82}, {\"embedding\": -0.8655455708503723, \"dimension\": 6, \"position\": 83}, {\"embedding\": -0.8322440981864929, \"dimension\": 6, \"position\": 84}, {\"embedding\": -0.795630156993866, \"dimension\": 6, \"position\": 85}, {\"embedding\": -0.7558501362800598, \"dimension\": 6, \"position\": 86}, {\"embedding\": -0.7130619883537292, \"dimension\": 6, \"position\": 87}, {\"embedding\": -0.6674357056617737, \"dimension\": 6, \"position\": 88}, {\"embedding\": -0.6191535592079163, \"dimension\": 6, \"position\": 89}, {\"embedding\": -0.5684073567390442, \"dimension\": 6, \"position\": 90}, {\"embedding\": -0.5153986215591431, \"dimension\": 6, \"position\": 91}, {\"embedding\": -0.46033912897109985, \"dimension\": 6, \"position\": 92}, {\"embedding\": -0.40344759821891785, \"dimension\": 6, \"position\": 93}, {\"embedding\": -0.3449500501155853, \"dimension\": 6, \"position\": 94}, {\"embedding\": -0.28508007526397705, \"dimension\": 6, \"position\": 95}, {\"embedding\": -0.22407560050487518, \"dimension\": 6, \"position\": 96}, {\"embedding\": -0.1621788740158081, \"dimension\": 6, \"position\": 97}, {\"embedding\": -0.09963719546794891, \"dimension\": 6, \"position\": 98}, {\"embedding\": -0.03669850528240204, \"dimension\": 6, \"position\": 99}, {\"embedding\": 1.0, \"dimension\": 7, \"position\": 0}, {\"embedding\": 0.9980100989341736, \"dimension\": 7, \"position\": 1}, {\"embedding\": 0.9920483827590942, \"dimension\": 7, \"position\": 2}, {\"embedding\": 0.9821385741233826, \"dimension\": 7, \"position\": 3}, {\"embedding\": 0.9683201313018799, \"dimension\": 7, \"position\": 4}, {\"embedding\": 0.9506479501724243, \"dimension\": 7, \"position\": 5}, {\"embedding\": 0.9291924834251404, \"dimension\": 7, \"position\": 6}, {\"embedding\": 0.9040390253067017, \"dimension\": 7, \"position\": 7}, {\"embedding\": 0.8752877116203308, \"dimension\": 7, \"position\": 8}, {\"embedding\": 0.8430529236793518, \"dimension\": 7, \"position\": 9}, {\"embedding\": 0.8074630498886108, \"dimension\": 7, \"position\": 10}, {\"embedding\": 0.7686597108840942, \"dimension\": 7, \"position\": 11}, {\"embedding\": 0.7267972826957703, \"dimension\": 7, \"position\": 12}, {\"embedding\": 0.6820423603057861, \"dimension\": 7, \"position\": 13}, {\"embedding\": 0.6345730423927307, \"dimension\": 7, \"position\": 14}, {\"embedding\": 0.5845783352851868, \"dimension\": 7, \"position\": 15}, {\"embedding\": 0.532257080078125, \"dimension\": 7, \"position\": 16}, {\"embedding\": 0.47781768441200256, \"dimension\": 7, \"position\": 17}, {\"embedding\": 0.4214765727519989, \"dimension\": 7, \"position\": 18}, {\"embedding\": 0.36345821619033813, \"dimension\": 7, \"position\": 19}, {\"embedding\": 0.30399325489997864, \"dimension\": 7, \"position\": 20}, {\"embedding\": 0.243318572640419, \"dimension\": 7, \"position\": 21}, {\"embedding\": 0.18167544901371002, \"dimension\": 7, \"position\": 22}, {\"embedding\": 0.11930941045284271, \"dimension\": 7, \"position\": 23}, {\"embedding\": 0.056468550115823746, \"dimension\": 7, \"position\": 24}, {\"embedding\": -0.006597157102078199, \"dimension\": 7, \"position\": 25}, {\"embedding\": -0.06963648647069931, \"dimension\": 7, \"position\": 26}, {\"embedding\": -0.1323987990617752, \"dimension\": 7, \"position\": 27}, {\"embedding\": -0.1946340948343277, \"dimension\": 7, \"position\": 28}, {\"embedding\": -0.25609490275382996, \"dimension\": 7, \"position\": 29}, {\"embedding\": -0.31653639674186707, \"dimension\": 7, \"position\": 30}, {\"embedding\": -0.37571826577186584, \"dimension\": 7, \"position\": 31}, {\"embedding\": -0.43340474367141724, \"dimension\": 7, \"position\": 32}, {\"embedding\": -0.4893665015697479, \"dimension\": 7, \"position\": 33}, {\"embedding\": -0.5433804988861084, \"dimension\": 7, \"position\": 34}, {\"embedding\": -0.5952321887016296, \"dimension\": 7, \"position\": 35}, {\"embedding\": -0.6447150111198425, \"dimension\": 7, \"position\": 36}, {\"embedding\": -0.6916319727897644, \"dimension\": 7, \"position\": 37}, {\"embedding\": -0.7357962727546692, \"dimension\": 7, \"position\": 38}, {\"embedding\": -0.7770324349403381, \"dimension\": 7, \"position\": 39}, {\"embedding\": -0.8151761889457703, \"dimension\": 7, \"position\": 40}, {\"embedding\": -0.8500756621360779, \"dimension\": 7, \"position\": 41}, {\"embedding\": -0.8815921545028687, \"dimension\": 7, \"position\": 42}, {\"embedding\": -0.9096000790596008, \"dimension\": 7, \"position\": 43}, {\"embedding\": -0.933988094329834, \"dimension\": 7, \"position\": 44}, {\"embedding\": -0.9546589255332947, \"dimension\": 7, \"position\": 45}, {\"embedding\": -0.971530556678772, \"dimension\": 7, \"position\": 46}, {\"embedding\": -0.9845356941223145, \"dimension\": 7, \"position\": 47}, {\"embedding\": -0.9936226010322571, \"dimension\": 7, \"position\": 48}, {\"embedding\": -0.998755156993866, \"dimension\": 7, \"position\": 49}, {\"embedding\": -0.9999129772186279, \"dimension\": 7, \"position\": 50}, {\"embedding\": -0.9970912933349609, \"dimension\": 7, \"position\": 51}, {\"embedding\": -0.9903014898300171, \"dimension\": 7, \"position\": 52}, {\"embedding\": -0.9795705676078796, \"dimension\": 7, \"position\": 53}, {\"embedding\": -0.964941143989563, \"dimension\": 7, \"position\": 54}, {\"embedding\": -0.9464714527130127, \"dimension\": 7, \"position\": 55}, {\"embedding\": -0.9242351651191711, \"dimension\": 7, \"position\": 56}, {\"embedding\": -0.8983205556869507, \"dimension\": 7, \"position\": 57}, {\"embedding\": -0.8688308000564575, \"dimension\": 7, \"position\": 58}, {\"embedding\": -0.8358834981918335, \"dimension\": 7, \"position\": 59}, {\"embedding\": -0.7996094226837158, \"dimension\": 7, \"position\": 60}, {\"embedding\": -0.7601531147956848, \"dimension\": 7, \"position\": 61}, {\"embedding\": -0.7176715731620789, \"dimension\": 7, \"position\": 62}, {\"embedding\": -0.6723340749740601, \"dimension\": 7, \"position\": 63}, {\"embedding\": -0.6243206262588501, \"dimension\": 7, \"position\": 64}, {\"embedding\": -0.5738227963447571, \"dimension\": 7, \"position\": 65}, {\"embedding\": -0.5210408568382263, \"dimension\": 7, \"position\": 66}, {\"embedding\": -0.46618568897247314, \"dimension\": 7, \"position\": 67}, {\"embedding\": -0.4094752371311188, \"dimension\": 7, \"position\": 68}, {\"embedding\": -0.3511347472667694, \"dimension\": 7, \"position\": 69}, {\"embedding\": -0.2913972735404968, \"dimension\": 7, \"position\": 70}, {\"embedding\": -0.23049965500831604, \"dimension\": 7, \"position\": 71}, {\"embedding\": -0.1686851680278778, \"dimension\": 7, \"position\": 72}, {\"embedding\": -0.10619935393333435, \"dimension\": 7, \"position\": 73}, {\"embedding\": -0.04329042136669159, \"dimension\": 7, \"position\": 74}, {\"embedding\": 0.019790323451161385, \"dimension\": 7, \"position\": 75}, {\"embedding\": 0.08279230445623398, \"dimension\": 7, \"position\": 76}, {\"embedding\": 0.14546526968479156, \"dimension\": 7, \"position\": 77}, {\"embedding\": 0.20755885541439056, \"dimension\": 7, \"position\": 78}, {\"embedding\": 0.2688263952732086, \"dimension\": 7, \"position\": 79}, {\"embedding\": 0.3290245532989502, \"dimension\": 7, \"position\": 80}, {\"embedding\": 0.3879128098487854, \"dimension\": 7, \"position\": 81}, {\"embedding\": 0.4452572762966156, \"dimension\": 7, \"position\": 82}, {\"embedding\": 0.5008301138877869, \"dimension\": 7, \"position\": 83}, {\"embedding\": 0.5544094443321228, \"dimension\": 7, \"position\": 84}, {\"embedding\": 0.605782687664032, \"dimension\": 7, \"position\": 85}, {\"embedding\": 0.6547446846961975, \"dimension\": 7, \"position\": 86}, {\"embedding\": 0.7011010050773621, \"dimension\": 7, \"position\": 87}, {\"embedding\": 0.7446674108505249, \"dimension\": 7, \"position\": 88}, {\"embedding\": 0.7852699160575867, \"dimension\": 7, \"position\": 89}, {\"embedding\": 0.8227472901344299, \"dimension\": 7, \"position\": 90}, {\"embedding\": 0.856950581073761, \"dimension\": 7, \"position\": 91}, {\"embedding\": 0.8877431154251099, \"dimension\": 7, \"position\": 92}, {\"embedding\": 0.9150027632713318, \"dimension\": 7, \"position\": 93}, {\"embedding\": 0.9386210441589355, \"dimension\": 7, \"position\": 94}, {\"embedding\": 0.9585037231445312, \"dimension\": 7, \"position\": 95}, {\"embedding\": 0.9745717644691467, \"dimension\": 7, \"position\": 96}, {\"embedding\": 0.9867613911628723, \"dimension\": 7, \"position\": 97}, {\"embedding\": 0.9950238466262817, \"dimension\": 7, \"position\": 98}, {\"embedding\": 0.9993264079093933, \"dimension\": 7, \"position\": 99}]}}, {\"mode\": \"vega-lite\"});\n",
              "</script>"
            ],
            "text/plain": [
              "alt.Chart(...)"
            ]
          },
          "metadata": {},
          "execution_count": 140
        }
      ]
    },
    {
      "cell_type": "markdown",
      "source": [
        "###The TRANSFORMER\n"
      ],
      "metadata": {
        "id": "_hsOfZVRvwPq"
      }
    },
    {
      "cell_type": "markdown",
      "source": [
        "We will now define a function that puts everything together to make a transformer model. All of the defaults for hyperparameters are identical to the hyperparameters used in the **Attention is All You Need** paper and have been mentioned in my descriptions earlier in this notebook."
      ],
      "metadata": {
        "id": "THZ1b20KxFbZ"
      }
    },
    {
      "cell_type": "code",
      "source": [
        "def make_transformer(\n",
        "    src_vocab, tgt_vocab, N=6, d_model=512, d_ff=2048, h=8, dropout=0.1\n",
        "    ):\n",
        "  c = copy.deepcopy\n",
        "  attn = MultiHeadAttention(h, d_model)\n",
        "  ff = PositionwiseFeedForward(d_model, d_ff, dropout)\n",
        "  position = PositionalEncoding(d_model, dropout)\n",
        "  transformer = EncoderDecoder(\n",
        "      Encoder(EncoderLayer(d_model, c(attn), c(ff), dropout), N),\n",
        "      Decoder(DecoderLayer(d_model, c(attn), c(attn), c(ff), dropout), N),\n",
        "      nn.Sequential(Embeddings(d_model, src_vocab), c(position)),\n",
        "      nn.Sequential(Embeddings(d_model, tgt_vocab), c(position)),\n",
        "      Generator(d_model, tgt_vocab),\n",
        "  )\n",
        "  # This is taken from The Annotated Transformer\n",
        "  # Not sure why parameters are initialized in this specific manner\n",
        "  for p in transformer.parameters():\n",
        "      if p.dim() > 1:\n",
        "          nn.init.xavier_uniform_(p)\n",
        "  return transformer\n"
      ],
      "metadata": {
        "id": "B3HRQe2jwz-H"
      },
      "execution_count": 141,
      "outputs": []
    },
    {
      "cell_type": "markdown",
      "source": [
        "##Model Training"
      ],
      "metadata": {
        "id": "svsyyday4gZ5"
      }
    },
    {
      "cell_type": "markdown",
      "source": [
        "###Inference Test\n",
        "\n",
        "First let's test our model out on some dummy data of small size."
      ],
      "metadata": {
        "id": "n2N66TOo5wx7"
      }
    },
    {
      "cell_type": "code",
      "source": [
        "def inference_test():\n",
        "  testformer = make_transformer(11, 11, N=2, h=8).to(DEVICE)\n",
        "  testformer.eval()\n",
        "  src = torch.LongTensor([[1,2,3,4,5,6,7,8,9,10]]).to(DEVICE)\n",
        "  src_mask = torch.ones(1, 1, 10).to(DEVICE)\n",
        "\n",
        "  memory = testformer.encode(src, src_mask)\n",
        "  ys = torch.zeros(1, 1).type_as(src)\n",
        "\n",
        "  for i in range(9):\n",
        "    out = testformer.decode(\n",
        "        memory=memory, src_mask=src_mask, tgt=ys, tgt_mask=subsequent_mask(ys.size(1)).type_as(src.data)\n",
        "    )\n",
        "    prob = testformer.generator(out[:, -1])\n",
        "    _, next_word = torch.max(prob, dim=1)\n",
        "    next_word = next_word.data[0]\n",
        "    ys = torch.cat(\n",
        "        [ys, torch.empty(1,1).type_as(src.data).fill_(next_word)], dim =1\n",
        "    )\n",
        "\n",
        "  print(f\"Example Untrained Model Prediction: {ys}\")\n",
        "\n"
      ],
      "metadata": {
        "id": "bFXMy6GH4iZH"
      },
      "execution_count": 142,
      "outputs": []
    },
    {
      "cell_type": "code",
      "source": [
        "def run_tests():\n",
        "  for _ in range(10):\n",
        "    inference_test()\n",
        "\n",
        "show_example(run_tests)"
      ],
      "metadata": {
        "colab": {
          "base_uri": "https://localhost:8080/"
        },
        "id": "Qy6ixs59_Vde",
        "outputId": "fcd2efb6-58ef-4e52-f5cf-053b4189a04a"
      },
      "execution_count": 143,
      "outputs": [
        {
          "output_type": "stream",
          "name": "stdout",
          "text": [
            "Example Untrained Model Prediction: tensor([[ 0,  8,  4, 10,  6,  0,  5,  0,  5,  0]], device='cuda:0')\n",
            "Example Untrained Model Prediction: tensor([[0, 4, 9, 7, 2, 2, 2, 2, 2, 2]], device='cuda:0')\n",
            "Example Untrained Model Prediction: tensor([[0, 5, 6, 6, 6, 6, 6, 6, 6, 6]], device='cuda:0')\n",
            "Example Untrained Model Prediction: tensor([[0, 1, 1, 1, 8, 8, 8, 8, 8, 8]], device='cuda:0')\n",
            "Example Untrained Model Prediction: tensor([[0, 1, 2, 9, 2, 9, 8, 8, 8, 8]], device='cuda:0')\n",
            "Example Untrained Model Prediction: tensor([[ 0, 10,  6,  8,  5,  8,  8,  8,  8,  8]], device='cuda:0')\n",
            "Example Untrained Model Prediction: tensor([[0, 7, 4, 3, 0, 1, 0, 7, 0, 7]], device='cuda:0')\n",
            "Example Untrained Model Prediction: tensor([[0, 0, 0, 0, 0, 0, 0, 0, 0, 0]], device='cuda:0')\n",
            "Example Untrained Model Prediction: tensor([[0, 6, 6, 6, 6, 6, 6, 6, 3, 4]], device='cuda:0')\n",
            "Example Untrained Model Prediction: tensor([[0, 3, 3, 3, 3, 3, 8, 5, 8, 5]], device='cuda:0')\n"
          ]
        }
      ]
    },
    {
      "cell_type": "markdown",
      "source": [
        "###Training\n",
        "\n",
        "We will make batch objects to train the model. This is also important when we want to parallelize training even though that is outside the scope of this particular exrecise of mine."
      ],
      "metadata": {
        "id": "PTACMbAowN7s"
      }
    },
    {
      "cell_type": "code",
      "source": [
        "class Batch:\n",
        "  #Object to hold a batch of training data with mask.\n",
        "  def __init__(self, src, tgt=None, pad=2):\n",
        "    #Pad determines which token is <blank>\n",
        "    self.src = src\n",
        "    self.src_mask = (src != pad).unsqueeze(-2)\n",
        "    if tgt is not None:\n",
        "      self.tgt = tgt[:, :-1] #TODO: what?\n",
        "      self.tgt_y = tgt[:, 1:] #TODO: what?\n",
        "      self.tgt_mask = self.make_std_mask(self.tgt, pad)\n",
        "      # print(f\"{self.tgt.device=}\")\n",
        "      # print(f\"{self.tgt_y.device=}\")\n",
        "      # print(f\"{self.tgt_mask.device=}\")\n",
        "      self.ntokens = (self.tgt_y != pad).data.sum() #just a count of non pad tokens\n",
        "      # print(f\"{self.ntokens.device=}\")\n",
        "\n",
        "  @staticmethod\n",
        "  def make_std_mask(tgt, pad):\n",
        "    #Mask to hide padding and future words in target sentences.\n",
        "    tgt_mask = (tgt != pad).unsqueeze(-2)\n",
        "    tgt_mask = tgt_mask & subsequent_mask(tgt.size(-1)).type_as(tgt_mask.data)\n",
        "    return tgt_mask\n"
      ],
      "metadata": {
        "id": "ruqdf8OHwXdT"
      },
      "execution_count": 144,
      "outputs": []
    },
    {
      "cell_type": "code",
      "source": [
        "class TrainState:\n",
        "  #Track number of steps, examples, and tokens processed\n",
        "  step: int = 0 #steps in current epoch\n",
        "  accum_step: int = 0 #gradient accumulation steps\n",
        "  samples: int = 0 #total num of examples used\n",
        "  tokens: int = 0 #total num of tokens processed\n",
        "\n",
        "def run_epoch(\n",
        "    data_iter,\n",
        "    model,\n",
        "    loss_compute,\n",
        "    optimizer,\n",
        "    scheduler,\n",
        "    mode=\"train\",\n",
        "    accum_iter=1,\n",
        "    train_state=TrainState(),\n",
        "    ):\n",
        "  #single epoch training\n",
        "  start = time.time()\n",
        "  total_tokens = 0\n",
        "  total_loss = 0\n",
        "  tokens = 0\n",
        "  n_accum = 0\n",
        "  for i, batch in enumerate(data_iter):\n",
        "    #forward pass\n",
        "    # model.train()\n",
        "    out = model.forward(\n",
        "        batch.src, batch.tgt, batch.src_mask, batch.tgt_mask\n",
        "        )\n",
        "    #compute loss on prediction\n",
        "    loss, loss_node = loss_compute(out, batch.tgt_y, batch.ntokens)\n",
        "    if mode == \"train\" or mode == \"train+log\":\n",
        "      #backpropagate loss\n",
        "      loss_node.backward()\n",
        "      #record training data in train_state\n",
        "      train_state.step += 1\n",
        "      train_state.samples += batch.src.shape[0]\n",
        "      train_state.tokens += batch.ntokens\n",
        "      if i % accum_iter == 0:\n",
        "        #accumulate gradient and update weights\n",
        "        optimizer.step()\n",
        "        #zero out gradient\n",
        "        optimizer.zero_grad(set_to_none=True)#why set to none?\n",
        "        n_accum += 1\n",
        "        train_state.accum_step +=1\n",
        "      scheduler.step()\n",
        "    total_loss += loss\n",
        "    total_tokens += batch.ntokens\n",
        "    tokens += batch.ntokens\n",
        "    if i % 40 == 1 and (mode == \"train\" or mode == \"train+log\"):\n",
        "      lr = optimizer.param_groups[0][\"lr\"]\n",
        "      elapsed = time.time()-start\n",
        "      start = time.time()\n",
        "      tokens = 0\n",
        "    del loss\n",
        "    del loss_node\n",
        "  return total_loss/total_tokens, train_state"
      ],
      "metadata": {
        "id": "qPhbEZh2BXvR"
      },
      "execution_count": 145,
      "outputs": []
    },
    {
      "cell_type": "code",
      "source": [
        "#Learning Rate Schedule\n",
        "def learning_rate(step, model_size, factor, warmup):\n",
        "  if step == 0:\n",
        "    step = 1\n",
        "  return factor * (model_size**(-0.5) * min(step**(-0.5), step*warmup**(-0.5)))"
      ],
      "metadata": {
        "id": "zSAgP9R1hy9G"
      },
      "execution_count": 146,
      "outputs": []
    },
    {
      "cell_type": "markdown",
      "source": [
        "###Regularization"
      ],
      "metadata": {
        "id": "7kfqcYz7FvzV"
      }
    },
    {
      "cell_type": "markdown",
      "source": [
        "The paper states that Label Smoothing was employed during training. I am not totally sure of the details of this.\n",
        "\n",
        "Label Smoothing is implemented here using the [KL Divergence Loss](https://en.wikipedia.org/wiki/Kullback%E2%80%93Leibler_divergence) function."
      ],
      "metadata": {
        "id": "J7XE1kXY4ZFW"
      }
    },
    {
      "cell_type": "code",
      "source": [
        "class LabelSmoothing(nn.Module):\n",
        "    \"Implement label smoothing.\"\n",
        "\n",
        "    def __init__(self, size, padding_idx, smoothing=0.0):\n",
        "        super(LabelSmoothing, self).__init__()\n",
        "        self.criterion = nn.KLDivLoss(reduction=\"sum\")\n",
        "        self.padding_idx = padding_idx\n",
        "        self.confidence = 1.0 - smoothing\n",
        "        self.smoothing = smoothing\n",
        "        self.size = size\n",
        "        self.true_dist = None\n",
        "\n",
        "    def forward(self, x, target):\n",
        "        assert x.size(1) == self.size\n",
        "        true_dist = x.data.clone()\n",
        "        true_dist.fill_(self.smoothing / (self.size - 2))\n",
        "        true_dist.scatter_(1, target.data.unsqueeze(1), self.confidence)\n",
        "        true_dist[:, self.padding_idx] = 0\n",
        "        mask = torch.nonzero(target.data == self.padding_idx)\n",
        "        if mask.dim() > 0:\n",
        "            true_dist.index_fill_(0, mask.squeeze(), 0.0)\n",
        "        self.true_dist = true_dist\n",
        "        return self.criterion(x, true_dist.clone().detach())"
      ],
      "metadata": {
        "id": "HPLagU1-0ILC"
      },
      "execution_count": 147,
      "outputs": []
    },
    {
      "cell_type": "code",
      "source": [
        "def example_label_smoothing():\n",
        "    crit = LabelSmoothing(5, 0, 0.4)\n",
        "    predict = torch.FloatTensor(\n",
        "        [\n",
        "            [0, 0.2, 0.7, 0.1, 0],\n",
        "            [0, 0.2, 0.7, 0.1, 0],\n",
        "            [0, 0.2, 0.7, 0.1, 0],\n",
        "            [0, 0.2, 0.7, 0.1, 0],\n",
        "            [0, 0.2, 0.7, 0.1, 0],\n",
        "        ]\n",
        "    )\n",
        "    crit(x=predict.log(), target=torch.LongTensor([2, 1, 0, 3, 3]))\n",
        "    LS_data = pd.concat(\n",
        "        [\n",
        "            pd.DataFrame(\n",
        "                {\n",
        "                    \"target distribution\": crit.true_dist[x, y].flatten(),\n",
        "                    \"columns\": y,\n",
        "                    \"rows\": x,\n",
        "                }\n",
        "            )\n",
        "            for y in range(5)\n",
        "            for x in range(5)\n",
        "        ]\n",
        "    )\n",
        "    return None\n",
        "\n",
        "    # return (\n",
        "    #     alt.Chart(LS_data)\n",
        "    #     .mark_rect(color=\"Blue\", opacity=1)\n",
        "    #     .properties(height=200, width=200)\n",
        "    #     .encode(\n",
        "    #         alt.X(\"columns:O\", title=None),\n",
        "    #         alt.Y(\"rows:O\", title=None),\n",
        "    #         alt.Color(\n",
        "    #             \"target distribution:Q\", scale=alt.Scale(scheme=\"viridis\")\n",
        "    #         ),\n",
        "    #     )\n",
        "    #     .interactive()\n",
        "    # )\n",
        "\n",
        "\n",
        "show_example(example_label_smoothing)"
      ],
      "metadata": {
        "id": "OmgACA6a_Be-"
      },
      "execution_count": 148,
      "outputs": []
    },
    {
      "cell_type": "markdown",
      "source": [
        "###Synthetic Data Training Example"
      ],
      "metadata": {
        "id": "y9Xk8FwgF1Uf"
      }
    },
    {
      "cell_type": "markdown",
      "source": [
        "We will generate synthetic data of a small vocabulary to train our model to copy data. (Maybe reverse it?)"
      ],
      "metadata": {
        "id": "v4ck2JUeGOCs"
      }
    },
    {
      "cell_type": "code",
      "source": [
        "def data_gen(V, batch_size, nbatches, start_symbol = 1):\n",
        "  #copy-data task\n",
        "  for i in range(nbatches):\n",
        "    data = torch.randint(1, V, size=(batch_size, 10))\n",
        "    data[:,0] = start_symbol\n",
        "    src = data.requires_grad_(False).clone().detach().to(DEVICE)\n",
        "    tgt = data.requires_grad_(False).clone().detach().to(DEVICE)\n",
        "    yield Batch(src, tgt, 0)\n",
        "\n",
        "def reverse_data_gen(V, batch_size, nbatches, start_symbol = 0):\n",
        "  for i in range(nbatches):\n",
        "    data = torch.randint(1, V, size=(batch_size, 10))\n",
        "    src = data.requires_grad_(False).clone().detach().to(DEVICE)\n",
        "    src[:,0] = start_symbol\n",
        "    data = torch.flip(data, dim=-1)\n",
        "    tgt = data.requires_grad_(False).clone().detach().to(DEVICE)\n",
        "    tgt[:,0] = start_symbol\n",
        "    yield Batch(src, tgt, 0)"
      ],
      "metadata": {
        "id": "4_fuvIISFOBJ"
      },
      "execution_count": 190,
      "outputs": []
    },
    {
      "cell_type": "markdown",
      "source": [
        "####Loss Computation"
      ],
      "metadata": {
        "id": "5cIbvw2mHuDv"
      }
    },
    {
      "cell_type": "code",
      "source": [
        "class SimpleLossCompute:\n",
        "  def __init__(self, generator, criterion):\n",
        "    self.generator = generator\n",
        "    self.criterion = criterion\n",
        "\n",
        "  def __call__(self, x, y, norm):\n",
        "    x = self.generator(x)\n",
        "    sloss = (\n",
        "        self.criterion(\n",
        "            x.contiguous().view(-1, x.size(-1)),\n",
        "            y.contiguous().view(-1)\n",
        "        ) / norm\n",
        "    )\n",
        "    return sloss.data * norm, sloss"
      ],
      "metadata": {
        "id": "Bi-gFXDSB5mZ"
      },
      "execution_count": 191,
      "outputs": []
    },
    {
      "cell_type": "markdown",
      "source": [
        "####Greedy Decoding\n",
        "\n",
        "This code predicts a translation using greedy decoding for simplicity."
      ],
      "metadata": {
        "id": "uigbkKcvIg8n"
      }
    },
    {
      "cell_type": "code",
      "source": [
        "def greedy_decode(model, src, src_mask, max_len, start_symbol):\n",
        "    #note this is similar to the decode loop in our\n",
        "    #inference example\n",
        "    # print(\"+++++GREEDY_DECODE+++++\")\n",
        "    memory = model.encode(src, src_mask)\n",
        "    ys = torch.zeros(1, 1).fill_(start_symbol).type_as(src.data)\n",
        "    # print(f\"=====MEMORY:{memory.shape}======\")\n",
        "    # print(f\"{memory[:,2,:20]=}\")\n",
        "    for i in range(max_len - 1):\n",
        "      # print(f\"POSITION:{i}\")\n",
        "      # print(f\"{ys=}\")\n",
        "      out = model.decode(\n",
        "          memory, src_mask, ys, subsequent_mask(ys.size(1)).type_as(src.data)\n",
        "      )\n",
        "      prob = model.generator(out[:, -1])\n",
        "      _, next_word = torch.max(prob, dim=1)\n",
        "      next_word = next_word.data[0]\n",
        "      ys = torch.cat(\n",
        "          [ys, torch.zeros(1, 1).type_as(src.data).fill_(next_word)], dim=1\n",
        "      )\n",
        "    return ys\n",
        ""
      ],
      "metadata": {
        "id": "CyXsTNNjIgjM"
      },
      "execution_count": 192,
      "outputs": []
    },
    {
      "cell_type": "markdown",
      "source": [
        "####Train Simple Copy Task"
      ],
      "metadata": {
        "id": "xBAu-R3AJIhU"
      }
    },
    {
      "cell_type": "code",
      "source": [
        "# Train the simple copy task.\n",
        "trained_model = None\n",
        "\n",
        "def example_simple_model():\n",
        "  torch.manual_seed(99)\n",
        "  V = 11\n",
        "  criterion = LabelSmoothing(size=V, padding_idx=0, smoothing=0.1)\n",
        "  model = make_transformer(V, V, N=2).to(DEVICE)\n",
        "\n",
        "  optimizer = torch.optim.Adam(\n",
        "      model.parameters(), lr=0.5, betas=(0.9, 0.98), eps=1e-9\n",
        "  )\n",
        "  lr_scheduler = torch.optim.lr_scheduler.LambdaLR(\n",
        "      optimizer=optimizer,\n",
        "      lr_lambda=lambda step: learning_rate(\n",
        "          step, model_size=model.src_embed[0].d_model, factor=1.0, warmup=800\n",
        "      ),\n",
        "  )\n",
        "\n",
        "  batch_size = 80\n",
        "  nepochs = 300\n",
        "  nbatches = 20\n",
        "  for epoch in range(nepochs):\n",
        "    if epoch%10==0:\n",
        "      print(f\"=====EPOCH:{epoch}=====\")\n",
        "    model.train()\n",
        "    run_epoch(\n",
        "        data_gen(V, batch_size, nbatches),\n",
        "        model,\n",
        "        SimpleLossCompute(model.generator, criterion),\n",
        "        optimizer,\n",
        "        lr_scheduler,\n",
        "        mode=\"train\",\n",
        "    )\n",
        "    model.eval()\n",
        "    loss_value = run_epoch(\n",
        "        data_gen(V, batch_size, 5),\n",
        "        model,\n",
        "        SimpleLossCompute(model.generator, criterion),\n",
        "        DummyOptimizer(),\n",
        "        DummyScheduler(),\n",
        "        mode=\"eval\",\n",
        "    )[0]\n",
        "    if epoch%10==0:\n",
        "      print(f\"{loss_value=}\")\n",
        "\n",
        "  model.eval()\n",
        "  src = torch.LongTensor([[0, 1, 2, 3, 4, 5, 6, 7, 8, 9]]).to(DEVICE)\n",
        "  max_len = src.shape[1]\n",
        "  src_mask = torch.ones(1, 1, max_len).to(DEVICE)\n",
        "  print(f\"{src=}|{greedy_decode(model, src, src_mask, max_len=max_len, start_symbol=0)=}\")\n",
        "  src = torch.LongTensor([[0, 1, 3, 3, 4, 6, 6, 7, 8, 9]]).to(DEVICE)\n",
        "  print(f\"{src=}|{greedy_decode(model, src, src_mask, max_len=max_len, start_symbol=0)=}\")\n",
        "  src = torch.LongTensor([[0, 8, 7, 6, 5, 4, 6, 7, 8, 9]]).to(DEVICE)\n",
        "  print(f\"{src=}|{greedy_decode(model, src, src_mask, max_len=max_len, start_symbol=0)=}\")\n",
        "  src = torch.LongTensor([[0, 9, 8, 7, 6, 5, 4, 3, 2, 1]]).to(DEVICE)\n",
        "  print(f\"{src=}|{greedy_decode(model, src, src_mask, max_len=max_len, start_symbol=0)=}\")\n",
        "  src = torch.LongTensor([[0, 4, 4, 4, 4, 4, 4, 4, 4, 4]]).to(DEVICE)\n",
        "  print(f\"{src=}|{greedy_decode(model, src, src_mask, max_len=max_len, start_symbol=0)=}\")\n",
        "\n",
        "  trained_model = model\n",
        "\n",
        "execute_example(example_simple_model)"
      ],
      "metadata": {
        "colab": {
          "base_uri": "https://localhost:8080/"
        },
        "id": "kjpotCxpJHD4",
        "outputId": "6eabc974-2dba-40c8-ef91-f6ae3f83d0a3"
      },
      "execution_count": 193,
      "outputs": [
        {
          "output_type": "stream",
          "name": "stdout",
          "text": [
            "=====EPOCH:0=====\n",
            "loss_value=tensor(1.5076, device='cuda:0')\n",
            "=====EPOCH:10=====\n",
            "loss_value=tensor(1.3653, device='cuda:0')\n",
            "=====EPOCH:20=====\n",
            "loss_value=tensor(1.2910, device='cuda:0')\n",
            "=====EPOCH:30=====\n",
            "loss_value=tensor(1.2180, device='cuda:0')\n",
            "=====EPOCH:40=====\n",
            "loss_value=tensor(1.1055, device='cuda:0')\n",
            "=====EPOCH:50=====\n",
            "loss_value=tensor(1.0505, device='cuda:0')\n",
            "=====EPOCH:60=====\n",
            "loss_value=tensor(1.0112, device='cuda:0')\n",
            "=====EPOCH:70=====\n",
            "loss_value=tensor(0.9838, device='cuda:0')\n",
            "=====EPOCH:80=====\n",
            "loss_value=tensor(0.9447, device='cuda:0')\n",
            "=====EPOCH:90=====\n",
            "loss_value=tensor(0.8516, device='cuda:0')\n",
            "=====EPOCH:100=====\n",
            "loss_value=tensor(0.7837, device='cuda:0')\n",
            "=====EPOCH:110=====\n",
            "loss_value=tensor(0.7612, device='cuda:0')\n",
            "=====EPOCH:120=====\n",
            "loss_value=tensor(0.7508, device='cuda:0')\n",
            "=====EPOCH:130=====\n",
            "loss_value=tensor(0.6752, device='cuda:0')\n",
            "=====EPOCH:140=====\n",
            "loss_value=tensor(0.6500, device='cuda:0')\n",
            "=====EPOCH:150=====\n",
            "loss_value=tensor(0.5894, device='cuda:0')\n",
            "=====EPOCH:160=====\n",
            "loss_value=tensor(0.5709, device='cuda:0')\n",
            "=====EPOCH:170=====\n",
            "loss_value=tensor(0.5424, device='cuda:0')\n",
            "=====EPOCH:180=====\n",
            "loss_value=tensor(0.5243, device='cuda:0')\n",
            "=====EPOCH:190=====\n",
            "loss_value=tensor(0.5240, device='cuda:0')\n",
            "=====EPOCH:200=====\n",
            "loss_value=tensor(0.5011, device='cuda:0')\n",
            "=====EPOCH:210=====\n",
            "loss_value=tensor(0.4913, device='cuda:0')\n",
            "=====EPOCH:220=====\n",
            "loss_value=tensor(0.4789, device='cuda:0')\n",
            "=====EPOCH:230=====\n",
            "loss_value=tensor(0.4755, device='cuda:0')\n",
            "=====EPOCH:240=====\n",
            "loss_value=tensor(0.4501, device='cuda:0')\n",
            "=====EPOCH:250=====\n",
            "loss_value=tensor(0.4210, device='cuda:0')\n",
            "=====EPOCH:260=====\n",
            "loss_value=tensor(0.4083, device='cuda:0')\n",
            "=====EPOCH:270=====\n",
            "loss_value=tensor(0.4062, device='cuda:0')\n",
            "=====EPOCH:280=====\n",
            "loss_value=tensor(0.3991, device='cuda:0')\n",
            "=====EPOCH:290=====\n",
            "loss_value=tensor(0.3858, device='cuda:0')\n",
            "src=tensor([[0, 1, 2, 3, 4, 5, 6, 7, 8, 9]], device='cuda:0')|greedy_decode(model, src, src_mask, max_len=max_len, start_symbol=0)=tensor([[0, 1, 2, 3, 4, 5, 6, 7, 8, 9]], device='cuda:0')\n",
            "src=tensor([[0, 1, 3, 3, 4, 6, 6, 7, 8, 9]], device='cuda:0')|greedy_decode(model, src, src_mask, max_len=max_len, start_symbol=0)=tensor([[0, 1, 3, 3, 4, 6, 6, 7, 8, 9]], device='cuda:0')\n",
            "src=tensor([[0, 8, 7, 6, 5, 4, 6, 7, 8, 9]], device='cuda:0')|greedy_decode(model, src, src_mask, max_len=max_len, start_symbol=0)=tensor([[0, 7, 1, 7, 5, 4, 6, 7, 8, 9]], device='cuda:0')\n",
            "src=tensor([[0, 9, 8, 7, 6, 5, 4, 3, 2, 1]], device='cuda:0')|greedy_decode(model, src, src_mask, max_len=max_len, start_symbol=0)=tensor([[0, 8, 8, 7, 6, 5, 4, 3, 2, 1]], device='cuda:0')\n",
            "src=tensor([[0, 4, 4, 4, 4, 4, 4, 4, 4, 4]], device='cuda:0')|greedy_decode(model, src, src_mask, max_len=max_len, start_symbol=0)=tensor([[0, 1, 4, 1, 4, 4, 4, 4, 4, 4]], device='cuda:0')\n"
          ]
        }
      ]
    },
    {
      "cell_type": "markdown",
      "source": [
        "####Results\n",
        "As we can see above, the model takes some time but it does learn reasonably well how to copy text.\n",
        "\n",
        "It still messes up sometimes but the model shows good performance. Let's try some random inputs.\n",
        "\n",
        "Below you see the comparisons of some of the runs when the data generation was changed up."
      ],
      "metadata": {
        "id": "ryoHoPbFqxB2"
      }
    },
    {
      "cell_type": "code",
      "source": [
        "##OUTPUT WITH DATAGEN START NUM = 1\n",
        "# =====EPOCH:0=====\n",
        "# loss_value=tensor(1.5076, device='cuda:0')\n",
        "# =====EPOCH:10=====\n",
        "# loss_value=tensor(1.3653, device='cuda:0')\n",
        "# =====EPOCH:20=====\n",
        "# loss_value=tensor(1.2910, device='cuda:0')\n",
        "# =====EPOCH:30=====\n",
        "# loss_value=tensor(1.2180, device='cuda:0')\n",
        "# =====EPOCH:40=====\n",
        "# loss_value=tensor(1.1055, device='cuda:0')\n",
        "# =====EPOCH:50=====\n",
        "# loss_value=tensor(1.0505, device='cuda:0')\n",
        "# =====EPOCH:60=====\n",
        "# loss_value=tensor(1.0112, device='cuda:0')\n",
        "# =====EPOCH:70=====\n",
        "# loss_value=tensor(0.9838, device='cuda:0')\n",
        "# =====EPOCH:80=====\n",
        "# loss_value=tensor(0.9447, device='cuda:0')\n",
        "# =====EPOCH:90=====\n",
        "# loss_value=tensor(0.8516, device='cuda:0')\n",
        "# =====EPOCH:100=====\n",
        "# loss_value=tensor(0.7837, device='cuda:0')\n",
        "# =====EPOCH:110=====\n",
        "# loss_value=tensor(0.7612, device='cuda:0')\n",
        "# =====EPOCH:120=====\n",
        "# loss_value=tensor(0.7508, device='cuda:0')\n",
        "# =====EPOCH:130=====\n",
        "# loss_value=tensor(0.6752, device='cuda:0')\n",
        "# =====EPOCH:140=====\n",
        "# loss_value=tensor(0.6500, device='cuda:0')\n",
        "# =====EPOCH:150=====\n",
        "# loss_value=tensor(0.5894, device='cuda:0')\n",
        "# =====EPOCH:160=====\n",
        "# loss_value=tensor(0.5709, device='cuda:0')\n",
        "# =====EPOCH:170=====\n",
        "# loss_value=tensor(0.5424, device='cuda:0')\n",
        "# =====EPOCH:180=====\n",
        "# loss_value=tensor(0.5243, device='cuda:0')\n",
        "# =====EPOCH:190=====\n",
        "# loss_value=tensor(0.5240, device='cuda:0')\n",
        "# src=tensor([[0, 1, 2, 3, 4, 5, 6, 7, 8, 9]], device='cuda:0')|greedy_decode(model, src, src_mask, max_len=max_len, start_symbol=0)=tensor([[0, 1, 2, 3, 4, 5, 6, 7, 8, 9]], device='cuda:0')\n",
        "# src=tensor([[0, 1, 3, 3, 4, 6, 6, 7, 8, 9]], device='cuda:0')|greedy_decode(model, src, src_mask, max_len=max_len, start_symbol=0)=tensor([[0, 1, 3, 4, 4, 6, 9, 7, 8, 9]], device='cuda:0')\n",
        "# src=tensor([[0, 8, 7, 6, 5, 4, 6, 7, 8, 9]], device='cuda:0')|greedy_decode(model, src, src_mask, max_len=max_len, start_symbol=0)=tensor([[0, 7, 1, 8, 6, 4, 6, 0, 8, 9]], device='cuda:0')\n",
        "# src=tensor([[0, 9, 8, 7, 6, 5, 4, 3, 2, 1]], device='cuda:0')|greedy_decode(model, src, src_mask, max_len=max_len, start_symbol=0)=tensor([[0, 1, 8, 7, 6, 5, 4, 3, 2, 1]], device='cuda:0')\n",
        "# src=tensor([[0, 4, 4, 4, 4, 4, 4, 4, 4, 4]], device='cuda:0')|greedy_decode(model, src, src_mask, max_len=max_len, start_symbol=0)=tensor([[0, 1, 8, 5, 4, 4, 4, 4, 4, 4]], device='cuda:0')\n",
        "\n"
      ],
      "metadata": {
        "colab": {
          "base_uri": "https://localhost:8080/"
        },
        "id": "RR1M8TehYwSe",
        "outputId": "9756f507-3e6e-4968-aa2c-f01e19a40db6"
      },
      "execution_count": 183,
      "outputs": [
        {
          "output_type": "stream",
          "name": "stdout",
          "text": [
            "tensor([[ 3,  5,  6,  2,  2,  5,  1,  3,  5,  5],\n",
            "        [ 3,  7,  4,  2, 10,  4,  1,  8,  4,  7]])\n",
            "tensor([[ 1,  5,  6,  2,  2,  5,  1,  3,  5,  5],\n",
            "        [ 1,  7,  4,  2, 10,  4,  1,  8,  4,  7]])\n"
          ]
        }
      ]
    },
    {
      "cell_type": "code",
      "source": [],
      "metadata": {
        "colab": {
          "base_uri": "https://localhost:8080/",
          "height": 181
        },
        "id": "f-o8vkXwbnQt",
        "outputId": "b47c4bfc-0913-4913-dd8f-2f90767d7ef9"
      },
      "execution_count": 185,
      "outputs": [
        {
          "output_type": "error",
          "ename": "AttributeError",
          "evalue": "ignored",
          "traceback": [
            "\u001b[0;31m---------------------------------------------------------------------------\u001b[0m",
            "\u001b[0;31mAttributeError\u001b[0m                            Traceback (most recent call last)",
            "\u001b[0;32m<ipython-input-185-ca7bd2197530>\u001b[0m in \u001b[0;36m<cell line: 1>\u001b[0;34m()\u001b[0m\n\u001b[0;32m----> 1\u001b[0;31m \u001b[0mtrained_model\u001b[0m\u001b[0;34m.\u001b[0m\u001b[0mparams\u001b[0m\u001b[0;34m\u001b[0m\u001b[0;34m\u001b[0m\u001b[0m\n\u001b[0m",
            "\u001b[0;31mAttributeError\u001b[0m: 'NoneType' object has no attribute 'params'"
          ]
        }
      ]
    },
    {
      "cell_type": "code",
      "source": [
        "##OUTPUT WITH DATAGEN STARTNUM = 0\n",
        "# =====EPOCH:0=====\n",
        "# loss_value=tensor(1.4342, device='cuda:0')\n",
        "# =====EPOCH:10=====\n",
        "# loss_value=tensor(1.2491, device='cuda:0')\n",
        "# =====EPOCH:20=====\n",
        "# loss_value=tensor(1.1966, device='cuda:0')\n",
        "# =====EPOCH:30=====\n",
        "# loss_value=tensor(1.1475, device='cuda:0')\n",
        "# =====EPOCH:40=====\n",
        "# loss_value=tensor(1.0529, device='cuda:0')\n",
        "# =====EPOCH:50=====\n",
        "# loss_value=tensor(1.0130, device='cuda:0')\n",
        "# =====EPOCH:60=====\n",
        "# loss_value=tensor(0.9728, device='cuda:0')\n",
        "# =====EPOCH:70=====\n",
        "# loss_value=tensor(0.9412, device='cuda:0')\n",
        "# =====EPOCH:80=====\n",
        "# loss_value=tensor(0.9101, device='cuda:0')\n",
        "# =====EPOCH:90=====\n",
        "# loss_value=tensor(0.8762, device='cuda:0')\n",
        "# =====EPOCH:100=====\n",
        "# loss_value=tensor(0.8318, device='cuda:0')\n",
        "# =====EPOCH:110=====\n",
        "# loss_value=tensor(0.8321, device='cuda:0')\n",
        "# =====EPOCH:120=====\n",
        "# loss_value=tensor(0.8194, device='cuda:0')\n",
        "# =====EPOCH:130=====\n",
        "# loss_value=tensor(0.7708, device='cuda:0')\n",
        "# =====EPOCH:140=====\n",
        "# loss_value=tensor(0.7733, device='cuda:0')\n",
        "# =====EPOCH:150=====\n",
        "# loss_value=tensor(0.7235, device='cuda:0')\n",
        "# =====EPOCH:160=====\n",
        "# loss_value=tensor(0.7316, device='cuda:0')\n",
        "# =====EPOCH:170=====\n",
        "# loss_value=tensor(0.6779, device='cuda:0')\n",
        "# =====EPOCH:180=====\n",
        "# loss_value=tensor(0.6648, device='cuda:0')\n",
        "# =====EPOCH:190=====\n",
        "# loss_value=tensor(0.6774, device='cuda:0')\n",
        "# src=tensor([[0, 1, 2, 3, 4, 5, 6, 7, 8, 9]], device='cuda:0')|greedy_decode(model, src, src_mask, max_len=max_len, start_symbol=0)=tensor([[0, 0, 0, 0, 0, 4, 5, 7, 8, 9]], device='cuda:0')\n",
        "# src=tensor([[0, 1, 3, 3, 4, 6, 6, 7, 8, 9]], device='cuda:0')|greedy_decode(model, src, src_mask, max_len=max_len, start_symbol=0)=tensor([[0, 0, 0, 0, 0, 0, 0, 0, 0, 0]], device='cuda:0')\n",
        "# src=tensor([[0, 8, 7, 6, 5, 4, 6, 7, 8, 9]], device='cuda:0')|greedy_decode(model, src, src_mask, max_len=max_len, start_symbol=0)=tensor([[0, 0, 0, 0, 0, 0, 0, 0, 0, 0]], device='cuda:0')\n",
        "# src=tensor([[0, 9, 8, 7, 6, 5, 4, 3, 2, 1]], device='cuda:0')|greedy_decode(model, src, src_mask, max_len=max_len, start_symbol=0)=tensor([[0, 0, 0, 0, 0, 0, 0, 0, 0, 0]], device='cuda:0')\n",
        "# src=tensor([[0, 4, 4, 4, 4, 4, 4, 4, 4, 4]], device='cuda:0')|greedy_decode(model, src, src_mask, max_len=max_len, start_symbol=0)=tensor([[0, 0, 0, 0, 0, 0, 0, 0, 0, 0]], device='cuda:0')\n",
        "\n"
      ],
      "metadata": {
        "id": "y3qAdMNlcPgy"
      },
      "execution_count": 154,
      "outputs": []
    }
  ]
}